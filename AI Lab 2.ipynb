{
 "cells": [
  {
   "cell_type": "code",
   "execution_count": 1,
   "id": "4d6709da",
   "metadata": {},
   "outputs": [],
   "source": [
    "#30-04-22"
   ]
  },
  {
   "cell_type": "code",
   "execution_count": 21,
   "id": "bb0b7d58",
   "metadata": {},
   "outputs": [],
   "source": [
    "from tkinter import *\n",
    "root = Tk()\n",
    "\n",
    "\n",
    "# Set title\n",
    "root.title(\"Rock Paper Scissor Game\")\n",
    "\n",
    "# Computer Value\n",
    "computer_value = {\"0\":\"Rock\",\"1\":\"Paper\",\"2\":\"Scissor\"}\n",
    "\n",
    "# Reset The Game\n",
    "def reset_game():\n",
    "    b1[\"state\"] = \"active\"\n",
    "    b2[\"state\"] = \"active\"\n",
    "    b3[\"state\"] = \"active\"\n",
    "    l1.config(text = \"Player              \")\n",
    "    l3.config(text = \"Computer\")\n",
    "    l4.config(text = \"\")\n",
    " \n",
    "\n",
    "# Disable the Button\n",
    "def button_disable():\n",
    "    b1[\"state\"] = \"disable\"\n",
    "    b2[\"state\"] = \"disable\"\n",
    "    b3[\"state\"] = \"disable\"\n",
    "# If player selected rock\n",
    "def isrock():\n",
    "    c_v = computer_value[str(random.randint(0,2))]\n",
    "    if c_v == \"Rock\":\n",
    "        match_result = \"Match Draw\"\n",
    "    elif c_v==\"Scissor\":\n",
    "        match_result = \"Player Win\"\n",
    "    else:\n",
    "        match_result = \"Computer Win\"\n",
    "    l4.config(text = match_result)\n",
    "    l1.config(text = \"Rock            \")\n",
    "    l3.config(text = c_v)\n",
    "    button_disable()\n",
    "\n",
    "# If player selected paper\n",
    "def ispaper():\n",
    "    c_v = computer_value[str(random.randint(0, 2))]\n",
    "    if c_v == \"Paper\":\n",
    "        match_result = \"Match Draw\"\n",
    "    elif c_v==\"Scissor\":\n",
    "        match_result = \"Computer Win\"\n",
    "    else:\n",
    "        match_result = \"Player Win\"\n",
    "    l4.config(text = match_result)\n",
    "    l1.config(text = \"Paper           \")\n",
    "    l3.config(text = c_v)\n",
    "    button_disable()\n",
    " \n",
    "\n",
    "# If player selected scissor\n",
    "def isscissor():\n",
    "    c_v = computer_value[str(random.randint(0,2))]\n",
    "    if c_v == \"Rock\":\n",
    "        match_result = \"Computer Win\"\n",
    "    elif c_v == \"Scissor\":\n",
    "        match_result = \"Match Draw\"\n",
    "    else:\n",
    "        match_result = \"Player Win\"\n",
    "    l4.config(text = match_result)\n",
    "    l1.config(text = \"Scissor         \")\n",
    "    l3.config(text = c_v)\n",
    "    button_disable()\n",
    "\n",
    "# Add Labels, Frames and Button\n",
    "Label(root,text = \"Rock Paper Scissor\",font = \"normal 20 bold\",fg = \"hotpink\").pack(pady = 20)\n",
    "\n",
    "frame = Frame(root)\n",
    "frame.pack()\n",
    "\n",
    "l1 = Label(frame,text = \"Player \",font = 10)\n",
    "l2 = Label(frame,text = \"VS \",font = \"normal 10 bold\")\n",
    "l3 = Label(frame, text = \"Computer\", font = 10)\n",
    "\n",
    "l1.pack(side = LEFT)\n",
    "l2.pack(side = LEFT)\n",
    "l3.pack()\n",
    "\n",
    "l4 = Label(root,text = \"\",font = \"normal 20 bold\",bg = \"white\",width = 15 ,borderwidth = 2,relief = \"solid\")\n",
    "l4.pack(pady = 20)\n",
    "\n",
    "frame1 = Frame(root)\n",
    "frame1.pack()\n",
    "\n",
    "b1 = Button(frame1, text = \"Rock\",font = 10, width = 7,command = isrock)\n",
    "b2 = Button(frame1, text = \"Paper \",font = 10, width = 7,command = ispaper)\n",
    "b3 = Button(frame1, text = \"Scissor\",font = 10, width = 7,command = isscissor)\n",
    "\n",
    "b1.pack(side = LEFT, padx = 10)\n",
    "b2.pack(side = LEFT,padx = 10)\n",
    "b3.pack(padx = 10)\n",
    "\n",
    "Button(root, text = \"Reset Game\",font = 10, fg = \"red\",bg = \"black\", command = reset_game).pack(pady = 20)\n",
    "\n",
    "\n",
    "root.mainloop()\n"
   ]
  },
  {
   "cell_type": "code",
   "execution_count": 5,
   "id": "be7eb9ca",
   "metadata": {},
   "outputs": [],
   "source": [
    "#KNN- K means nearest neighbour\n",
    "#regression and classification\n",
    "#to find similar data and put in same group\n",
    "#K value we decides"
   ]
  },
  {
   "cell_type": "code",
   "execution_count": 6,
   "id": "1b80ae28",
   "metadata": {},
   "outputs": [],
   "source": [
    "import pandas as pd\n",
    "from sklearn.datasets import load_iris\n",
    "iris=load_iris()"
   ]
  },
  {
   "cell_type": "code",
   "execution_count": 8,
   "id": "b931f3e1",
   "metadata": {},
   "outputs": [
    {
     "data": {
      "text/plain": [
       "sklearn.utils.Bunch"
      ]
     },
     "execution_count": 8,
     "metadata": {},
     "output_type": "execute_result"
    }
   ],
   "source": [
    "type(iris)"
   ]
  },
  {
   "cell_type": "code",
   "execution_count": 10,
   "id": "311616f4",
   "metadata": {},
   "outputs": [
    {
     "data": {
      "text/plain": [
       "['sepal length (cm)',\n",
       " 'sepal width (cm)',\n",
       " 'petal length (cm)',\n",
       " 'petal width (cm)']"
      ]
     },
     "execution_count": 10,
     "metadata": {},
     "output_type": "execute_result"
    }
   ],
   "source": [
    "iris.feature_names"
   ]
  },
  {
   "cell_type": "code",
   "execution_count": 11,
   "id": "c0ba0a9f",
   "metadata": {},
   "outputs": [
    {
     "data": {
      "text/plain": [
       "array(['setosa', 'versicolor', 'virginica'], dtype='<U10')"
      ]
     },
     "execution_count": 11,
     "metadata": {},
     "output_type": "execute_result"
    }
   ],
   "source": [
    "iris.target_names       #dependend variables"
   ]
  },
  {
   "cell_type": "code",
   "execution_count": 12,
   "id": "b4d07841",
   "metadata": {},
   "outputs": [],
   "source": [
    "df=pd.DataFrame(iris.data,columns=iris.feature_names)"
   ]
  },
  {
   "cell_type": "code",
   "execution_count": 13,
   "id": "a6d5d0ac",
   "metadata": {},
   "outputs": [
    {
     "data": {
      "text/html": [
       "<div>\n",
       "<style scoped>\n",
       "    .dataframe tbody tr th:only-of-type {\n",
       "        vertical-align: middle;\n",
       "    }\n",
       "\n",
       "    .dataframe tbody tr th {\n",
       "        vertical-align: top;\n",
       "    }\n",
       "\n",
       "    .dataframe thead th {\n",
       "        text-align: right;\n",
       "    }\n",
       "</style>\n",
       "<table border=\"1\" class=\"dataframe\">\n",
       "  <thead>\n",
       "    <tr style=\"text-align: right;\">\n",
       "      <th></th>\n",
       "      <th>sepal length (cm)</th>\n",
       "      <th>sepal width (cm)</th>\n",
       "      <th>petal length (cm)</th>\n",
       "      <th>petal width (cm)</th>\n",
       "    </tr>\n",
       "  </thead>\n",
       "  <tbody>\n",
       "    <tr>\n",
       "      <th>0</th>\n",
       "      <td>5.1</td>\n",
       "      <td>3.5</td>\n",
       "      <td>1.4</td>\n",
       "      <td>0.2</td>\n",
       "    </tr>\n",
       "    <tr>\n",
       "      <th>1</th>\n",
       "      <td>4.9</td>\n",
       "      <td>3.0</td>\n",
       "      <td>1.4</td>\n",
       "      <td>0.2</td>\n",
       "    </tr>\n",
       "    <tr>\n",
       "      <th>2</th>\n",
       "      <td>4.7</td>\n",
       "      <td>3.2</td>\n",
       "      <td>1.3</td>\n",
       "      <td>0.2</td>\n",
       "    </tr>\n",
       "    <tr>\n",
       "      <th>3</th>\n",
       "      <td>4.6</td>\n",
       "      <td>3.1</td>\n",
       "      <td>1.5</td>\n",
       "      <td>0.2</td>\n",
       "    </tr>\n",
       "    <tr>\n",
       "      <th>4</th>\n",
       "      <td>5.0</td>\n",
       "      <td>3.6</td>\n",
       "      <td>1.4</td>\n",
       "      <td>0.2</td>\n",
       "    </tr>\n",
       "  </tbody>\n",
       "</table>\n",
       "</div>"
      ],
      "text/plain": [
       "   sepal length (cm)  sepal width (cm)  petal length (cm)  petal width (cm)\n",
       "0                5.1               3.5                1.4               0.2\n",
       "1                4.9               3.0                1.4               0.2\n",
       "2                4.7               3.2                1.3               0.2\n",
       "3                4.6               3.1                1.5               0.2\n",
       "4                5.0               3.6                1.4               0.2"
      ]
     },
     "execution_count": 13,
     "metadata": {},
     "output_type": "execute_result"
    }
   ],
   "source": [
    "df.head()"
   ]
  },
  {
   "cell_type": "code",
   "execution_count": 14,
   "id": "5161bb22",
   "metadata": {},
   "outputs": [
    {
     "data": {
      "text/html": [
       "<div>\n",
       "<style scoped>\n",
       "    .dataframe tbody tr th:only-of-type {\n",
       "        vertical-align: middle;\n",
       "    }\n",
       "\n",
       "    .dataframe tbody tr th {\n",
       "        vertical-align: top;\n",
       "    }\n",
       "\n",
       "    .dataframe thead th {\n",
       "        text-align: right;\n",
       "    }\n",
       "</style>\n",
       "<table border=\"1\" class=\"dataframe\">\n",
       "  <thead>\n",
       "    <tr style=\"text-align: right;\">\n",
       "      <th></th>\n",
       "      <th>sepal length (cm)</th>\n",
       "      <th>sepal width (cm)</th>\n",
       "      <th>petal length (cm)</th>\n",
       "      <th>petal width (cm)</th>\n",
       "    </tr>\n",
       "  </thead>\n",
       "  <tbody>\n",
       "    <tr>\n",
       "      <th>145</th>\n",
       "      <td>6.7</td>\n",
       "      <td>3.0</td>\n",
       "      <td>5.2</td>\n",
       "      <td>2.3</td>\n",
       "    </tr>\n",
       "    <tr>\n",
       "      <th>146</th>\n",
       "      <td>6.3</td>\n",
       "      <td>2.5</td>\n",
       "      <td>5.0</td>\n",
       "      <td>1.9</td>\n",
       "    </tr>\n",
       "    <tr>\n",
       "      <th>147</th>\n",
       "      <td>6.5</td>\n",
       "      <td>3.0</td>\n",
       "      <td>5.2</td>\n",
       "      <td>2.0</td>\n",
       "    </tr>\n",
       "    <tr>\n",
       "      <th>148</th>\n",
       "      <td>6.2</td>\n",
       "      <td>3.4</td>\n",
       "      <td>5.4</td>\n",
       "      <td>2.3</td>\n",
       "    </tr>\n",
       "    <tr>\n",
       "      <th>149</th>\n",
       "      <td>5.9</td>\n",
       "      <td>3.0</td>\n",
       "      <td>5.1</td>\n",
       "      <td>1.8</td>\n",
       "    </tr>\n",
       "  </tbody>\n",
       "</table>\n",
       "</div>"
      ],
      "text/plain": [
       "     sepal length (cm)  sepal width (cm)  petal length (cm)  petal width (cm)\n",
       "145                6.7               3.0                5.2               2.3\n",
       "146                6.3               2.5                5.0               1.9\n",
       "147                6.5               3.0                5.2               2.0\n",
       "148                6.2               3.4                5.4               2.3\n",
       "149                5.9               3.0                5.1               1.8"
      ]
     },
     "execution_count": 14,
     "metadata": {},
     "output_type": "execute_result"
    }
   ],
   "source": [
    "df.tail()"
   ]
  },
  {
   "cell_type": "code",
   "execution_count": 18,
   "id": "d6c5b3f4",
   "metadata": {},
   "outputs": [],
   "source": [
    "df[\"target\"]=iris.target            #to add column"
   ]
  },
  {
   "cell_type": "code",
   "execution_count": 22,
   "id": "cdd18b03",
   "metadata": {},
   "outputs": [
    {
     "data": {
      "text/html": [
       "<div>\n",
       "<style scoped>\n",
       "    .dataframe tbody tr th:only-of-type {\n",
       "        vertical-align: middle;\n",
       "    }\n",
       "\n",
       "    .dataframe tbody tr th {\n",
       "        vertical-align: top;\n",
       "    }\n",
       "\n",
       "    .dataframe thead th {\n",
       "        text-align: right;\n",
       "    }\n",
       "</style>\n",
       "<table border=\"1\" class=\"dataframe\">\n",
       "  <thead>\n",
       "    <tr style=\"text-align: right;\">\n",
       "      <th></th>\n",
       "      <th>sepal length (cm)</th>\n",
       "      <th>sepal width (cm)</th>\n",
       "      <th>petal length (cm)</th>\n",
       "      <th>petal width (cm)</th>\n",
       "      <th>target</th>\n",
       "    </tr>\n",
       "  </thead>\n",
       "  <tbody>\n",
       "    <tr>\n",
       "      <th>50</th>\n",
       "      <td>7.0</td>\n",
       "      <td>3.2</td>\n",
       "      <td>4.7</td>\n",
       "      <td>1.4</td>\n",
       "      <td>1</td>\n",
       "    </tr>\n",
       "    <tr>\n",
       "      <th>51</th>\n",
       "      <td>6.4</td>\n",
       "      <td>3.2</td>\n",
       "      <td>4.5</td>\n",
       "      <td>1.5</td>\n",
       "      <td>1</td>\n",
       "    </tr>\n",
       "    <tr>\n",
       "      <th>52</th>\n",
       "      <td>6.9</td>\n",
       "      <td>3.1</td>\n",
       "      <td>4.9</td>\n",
       "      <td>1.5</td>\n",
       "      <td>1</td>\n",
       "    </tr>\n",
       "    <tr>\n",
       "      <th>53</th>\n",
       "      <td>5.5</td>\n",
       "      <td>2.3</td>\n",
       "      <td>4.0</td>\n",
       "      <td>1.3</td>\n",
       "      <td>1</td>\n",
       "    </tr>\n",
       "    <tr>\n",
       "      <th>54</th>\n",
       "      <td>6.5</td>\n",
       "      <td>2.8</td>\n",
       "      <td>4.6</td>\n",
       "      <td>1.5</td>\n",
       "      <td>1</td>\n",
       "    </tr>\n",
       "  </tbody>\n",
       "</table>\n",
       "</div>"
      ],
      "text/plain": [
       "    sepal length (cm)  sepal width (cm)  petal length (cm)  petal width (cm)  \\\n",
       "50                7.0               3.2                4.7               1.4   \n",
       "51                6.4               3.2                4.5               1.5   \n",
       "52                6.9               3.1                4.9               1.5   \n",
       "53                5.5               2.3                4.0               1.3   \n",
       "54                6.5               2.8                4.6               1.5   \n",
       "\n",
       "    target  \n",
       "50       1  \n",
       "51       1  \n",
       "52       1  \n",
       "53       1  \n",
       "54       1  "
      ]
     },
     "execution_count": 22,
     "metadata": {},
     "output_type": "execute_result"
    }
   ],
   "source": [
    "df[df.target==1].head()"
   ]
  },
  {
   "cell_type": "code",
   "execution_count": 23,
   "id": "7c2b7859",
   "metadata": {},
   "outputs": [
    {
     "data": {
      "text/html": [
       "<div>\n",
       "<style scoped>\n",
       "    .dataframe tbody tr th:only-of-type {\n",
       "        vertical-align: middle;\n",
       "    }\n",
       "\n",
       "    .dataframe tbody tr th {\n",
       "        vertical-align: top;\n",
       "    }\n",
       "\n",
       "    .dataframe thead th {\n",
       "        text-align: right;\n",
       "    }\n",
       "</style>\n",
       "<table border=\"1\" class=\"dataframe\">\n",
       "  <thead>\n",
       "    <tr style=\"text-align: right;\">\n",
       "      <th></th>\n",
       "      <th>sepal length (cm)</th>\n",
       "      <th>sepal width (cm)</th>\n",
       "      <th>petal length (cm)</th>\n",
       "      <th>petal width (cm)</th>\n",
       "      <th>target</th>\n",
       "    </tr>\n",
       "  </thead>\n",
       "  <tbody>\n",
       "    <tr>\n",
       "      <th>100</th>\n",
       "      <td>6.3</td>\n",
       "      <td>3.3</td>\n",
       "      <td>6.0</td>\n",
       "      <td>2.5</td>\n",
       "      <td>2</td>\n",
       "    </tr>\n",
       "    <tr>\n",
       "      <th>101</th>\n",
       "      <td>5.8</td>\n",
       "      <td>2.7</td>\n",
       "      <td>5.1</td>\n",
       "      <td>1.9</td>\n",
       "      <td>2</td>\n",
       "    </tr>\n",
       "    <tr>\n",
       "      <th>102</th>\n",
       "      <td>7.1</td>\n",
       "      <td>3.0</td>\n",
       "      <td>5.9</td>\n",
       "      <td>2.1</td>\n",
       "      <td>2</td>\n",
       "    </tr>\n",
       "    <tr>\n",
       "      <th>103</th>\n",
       "      <td>6.3</td>\n",
       "      <td>2.9</td>\n",
       "      <td>5.6</td>\n",
       "      <td>1.8</td>\n",
       "      <td>2</td>\n",
       "    </tr>\n",
       "    <tr>\n",
       "      <th>104</th>\n",
       "      <td>6.5</td>\n",
       "      <td>3.0</td>\n",
       "      <td>5.8</td>\n",
       "      <td>2.2</td>\n",
       "      <td>2</td>\n",
       "    </tr>\n",
       "  </tbody>\n",
       "</table>\n",
       "</div>"
      ],
      "text/plain": [
       "     sepal length (cm)  sepal width (cm)  petal length (cm)  petal width (cm)  \\\n",
       "100                6.3               3.3                6.0               2.5   \n",
       "101                5.8               2.7                5.1               1.9   \n",
       "102                7.1               3.0                5.9               2.1   \n",
       "103                6.3               2.9                5.6               1.8   \n",
       "104                6.5               3.0                5.8               2.2   \n",
       "\n",
       "     target  \n",
       "100       2  \n",
       "101       2  \n",
       "102       2  \n",
       "103       2  \n",
       "104       2  "
      ]
     },
     "execution_count": 23,
     "metadata": {},
     "output_type": "execute_result"
    }
   ],
   "source": [
    "df[df.target==2].head()"
   ]
  },
  {
   "cell_type": "code",
   "execution_count": 24,
   "id": "39558a4f",
   "metadata": {},
   "outputs": [],
   "source": [
    "df['flowername']=df.target.apply(lambda x:iris.target_names[x])"
   ]
  },
  {
   "cell_type": "code",
   "execution_count": 25,
   "id": "7784a9c1",
   "metadata": {},
   "outputs": [
    {
     "data": {
      "text/html": [
       "<div>\n",
       "<style scoped>\n",
       "    .dataframe tbody tr th:only-of-type {\n",
       "        vertical-align: middle;\n",
       "    }\n",
       "\n",
       "    .dataframe tbody tr th {\n",
       "        vertical-align: top;\n",
       "    }\n",
       "\n",
       "    .dataframe thead th {\n",
       "        text-align: right;\n",
       "    }\n",
       "</style>\n",
       "<table border=\"1\" class=\"dataframe\">\n",
       "  <thead>\n",
       "    <tr style=\"text-align: right;\">\n",
       "      <th></th>\n",
       "      <th>sepal length (cm)</th>\n",
       "      <th>sepal width (cm)</th>\n",
       "      <th>petal length (cm)</th>\n",
       "      <th>petal width (cm)</th>\n",
       "      <th>target</th>\n",
       "      <th>flowername</th>\n",
       "    </tr>\n",
       "  </thead>\n",
       "  <tbody>\n",
       "    <tr>\n",
       "      <th>50</th>\n",
       "      <td>7.0</td>\n",
       "      <td>3.2</td>\n",
       "      <td>4.7</td>\n",
       "      <td>1.4</td>\n",
       "      <td>1</td>\n",
       "      <td>versicolor</td>\n",
       "    </tr>\n",
       "    <tr>\n",
       "      <th>51</th>\n",
       "      <td>6.4</td>\n",
       "      <td>3.2</td>\n",
       "      <td>4.5</td>\n",
       "      <td>1.5</td>\n",
       "      <td>1</td>\n",
       "      <td>versicolor</td>\n",
       "    </tr>\n",
       "    <tr>\n",
       "      <th>52</th>\n",
       "      <td>6.9</td>\n",
       "      <td>3.1</td>\n",
       "      <td>4.9</td>\n",
       "      <td>1.5</td>\n",
       "      <td>1</td>\n",
       "      <td>versicolor</td>\n",
       "    </tr>\n",
       "    <tr>\n",
       "      <th>53</th>\n",
       "      <td>5.5</td>\n",
       "      <td>2.3</td>\n",
       "      <td>4.0</td>\n",
       "      <td>1.3</td>\n",
       "      <td>1</td>\n",
       "      <td>versicolor</td>\n",
       "    </tr>\n",
       "    <tr>\n",
       "      <th>54</th>\n",
       "      <td>6.5</td>\n",
       "      <td>2.8</td>\n",
       "      <td>4.6</td>\n",
       "      <td>1.5</td>\n",
       "      <td>1</td>\n",
       "      <td>versicolor</td>\n",
       "    </tr>\n",
       "  </tbody>\n",
       "</table>\n",
       "</div>"
      ],
      "text/plain": [
       "    sepal length (cm)  sepal width (cm)  petal length (cm)  petal width (cm)  \\\n",
       "50                7.0               3.2                4.7               1.4   \n",
       "51                6.4               3.2                4.5               1.5   \n",
       "52                6.9               3.1                4.9               1.5   \n",
       "53                5.5               2.3                4.0               1.3   \n",
       "54                6.5               2.8                4.6               1.5   \n",
       "\n",
       "    target  flowername  \n",
       "50       1  versicolor  \n",
       "51       1  versicolor  \n",
       "52       1  versicolor  \n",
       "53       1  versicolor  \n",
       "54       1  versicolor  "
      ]
     },
     "execution_count": 25,
     "metadata": {},
     "output_type": "execute_result"
    }
   ],
   "source": [
    "df[df.target==1].head()"
   ]
  },
  {
   "cell_type": "code",
   "execution_count": 26,
   "id": "c64d9c18",
   "metadata": {},
   "outputs": [
    {
     "data": {
      "text/html": [
       "<div>\n",
       "<style scoped>\n",
       "    .dataframe tbody tr th:only-of-type {\n",
       "        vertical-align: middle;\n",
       "    }\n",
       "\n",
       "    .dataframe tbody tr th {\n",
       "        vertical-align: top;\n",
       "    }\n",
       "\n",
       "    .dataframe thead th {\n",
       "        text-align: right;\n",
       "    }\n",
       "</style>\n",
       "<table border=\"1\" class=\"dataframe\">\n",
       "  <thead>\n",
       "    <tr style=\"text-align: right;\">\n",
       "      <th></th>\n",
       "      <th>sepal length (cm)</th>\n",
       "      <th>sepal width (cm)</th>\n",
       "      <th>petal length (cm)</th>\n",
       "      <th>petal width (cm)</th>\n",
       "      <th>target</th>\n",
       "      <th>flowername</th>\n",
       "    </tr>\n",
       "  </thead>\n",
       "  <tbody>\n",
       "    <tr>\n",
       "      <th>100</th>\n",
       "      <td>6.3</td>\n",
       "      <td>3.3</td>\n",
       "      <td>6.0</td>\n",
       "      <td>2.5</td>\n",
       "      <td>2</td>\n",
       "      <td>virginica</td>\n",
       "    </tr>\n",
       "    <tr>\n",
       "      <th>101</th>\n",
       "      <td>5.8</td>\n",
       "      <td>2.7</td>\n",
       "      <td>5.1</td>\n",
       "      <td>1.9</td>\n",
       "      <td>2</td>\n",
       "      <td>virginica</td>\n",
       "    </tr>\n",
       "    <tr>\n",
       "      <th>102</th>\n",
       "      <td>7.1</td>\n",
       "      <td>3.0</td>\n",
       "      <td>5.9</td>\n",
       "      <td>2.1</td>\n",
       "      <td>2</td>\n",
       "      <td>virginica</td>\n",
       "    </tr>\n",
       "    <tr>\n",
       "      <th>103</th>\n",
       "      <td>6.3</td>\n",
       "      <td>2.9</td>\n",
       "      <td>5.6</td>\n",
       "      <td>1.8</td>\n",
       "      <td>2</td>\n",
       "      <td>virginica</td>\n",
       "    </tr>\n",
       "    <tr>\n",
       "      <th>104</th>\n",
       "      <td>6.5</td>\n",
       "      <td>3.0</td>\n",
       "      <td>5.8</td>\n",
       "      <td>2.2</td>\n",
       "      <td>2</td>\n",
       "      <td>virginica</td>\n",
       "    </tr>\n",
       "  </tbody>\n",
       "</table>\n",
       "</div>"
      ],
      "text/plain": [
       "     sepal length (cm)  sepal width (cm)  petal length (cm)  petal width (cm)  \\\n",
       "100                6.3               3.3                6.0               2.5   \n",
       "101                5.8               2.7                5.1               1.9   \n",
       "102                7.1               3.0                5.9               2.1   \n",
       "103                6.3               2.9                5.6               1.8   \n",
       "104                6.5               3.0                5.8               2.2   \n",
       "\n",
       "     target flowername  \n",
       "100       2  virginica  \n",
       "101       2  virginica  \n",
       "102       2  virginica  \n",
       "103       2  virginica  \n",
       "104       2  virginica  "
      ]
     },
     "execution_count": 26,
     "metadata": {},
     "output_type": "execute_result"
    }
   ],
   "source": [
    "df[df.target==2].head()"
   ]
  },
  {
   "cell_type": "code",
   "execution_count": 27,
   "id": "ead8aaff",
   "metadata": {},
   "outputs": [
    {
     "data": {
      "text/html": [
       "<div>\n",
       "<style scoped>\n",
       "    .dataframe tbody tr th:only-of-type {\n",
       "        vertical-align: middle;\n",
       "    }\n",
       "\n",
       "    .dataframe tbody tr th {\n",
       "        vertical-align: top;\n",
       "    }\n",
       "\n",
       "    .dataframe thead th {\n",
       "        text-align: right;\n",
       "    }\n",
       "</style>\n",
       "<table border=\"1\" class=\"dataframe\">\n",
       "  <thead>\n",
       "    <tr style=\"text-align: right;\">\n",
       "      <th></th>\n",
       "      <th>sepal length (cm)</th>\n",
       "      <th>sepal width (cm)</th>\n",
       "      <th>petal length (cm)</th>\n",
       "      <th>petal width (cm)</th>\n",
       "      <th>target</th>\n",
       "      <th>flowername</th>\n",
       "    </tr>\n",
       "  </thead>\n",
       "  <tbody>\n",
       "    <tr>\n",
       "      <th>0</th>\n",
       "      <td>5.1</td>\n",
       "      <td>3.5</td>\n",
       "      <td>1.4</td>\n",
       "      <td>0.2</td>\n",
       "      <td>0</td>\n",
       "      <td>setosa</td>\n",
       "    </tr>\n",
       "    <tr>\n",
       "      <th>1</th>\n",
       "      <td>4.9</td>\n",
       "      <td>3.0</td>\n",
       "      <td>1.4</td>\n",
       "      <td>0.2</td>\n",
       "      <td>0</td>\n",
       "      <td>setosa</td>\n",
       "    </tr>\n",
       "    <tr>\n",
       "      <th>2</th>\n",
       "      <td>4.7</td>\n",
       "      <td>3.2</td>\n",
       "      <td>1.3</td>\n",
       "      <td>0.2</td>\n",
       "      <td>0</td>\n",
       "      <td>setosa</td>\n",
       "    </tr>\n",
       "    <tr>\n",
       "      <th>3</th>\n",
       "      <td>4.6</td>\n",
       "      <td>3.1</td>\n",
       "      <td>1.5</td>\n",
       "      <td>0.2</td>\n",
       "      <td>0</td>\n",
       "      <td>setosa</td>\n",
       "    </tr>\n",
       "    <tr>\n",
       "      <th>4</th>\n",
       "      <td>5.0</td>\n",
       "      <td>3.6</td>\n",
       "      <td>1.4</td>\n",
       "      <td>0.2</td>\n",
       "      <td>0</td>\n",
       "      <td>setosa</td>\n",
       "    </tr>\n",
       "  </tbody>\n",
       "</table>\n",
       "</div>"
      ],
      "text/plain": [
       "   sepal length (cm)  sepal width (cm)  petal length (cm)  petal width (cm)  \\\n",
       "0                5.1               3.5                1.4               0.2   \n",
       "1                4.9               3.0                1.4               0.2   \n",
       "2                4.7               3.2                1.3               0.2   \n",
       "3                4.6               3.1                1.5               0.2   \n",
       "4                5.0               3.6                1.4               0.2   \n",
       "\n",
       "   target flowername  \n",
       "0       0     setosa  \n",
       "1       0     setosa  \n",
       "2       0     setosa  \n",
       "3       0     setosa  \n",
       "4       0     setosa  "
      ]
     },
     "execution_count": 27,
     "metadata": {},
     "output_type": "execute_result"
    }
   ],
   "source": [
    "df[df.target==0].head()"
   ]
  },
  {
   "cell_type": "code",
   "execution_count": 28,
   "id": "3e08f9b5",
   "metadata": {},
   "outputs": [
    {
     "data": {
      "text/html": [
       "<div>\n",
       "<style scoped>\n",
       "    .dataframe tbody tr th:only-of-type {\n",
       "        vertical-align: middle;\n",
       "    }\n",
       "\n",
       "    .dataframe tbody tr th {\n",
       "        vertical-align: top;\n",
       "    }\n",
       "\n",
       "    .dataframe thead th {\n",
       "        text-align: right;\n",
       "    }\n",
       "</style>\n",
       "<table border=\"1\" class=\"dataframe\">\n",
       "  <thead>\n",
       "    <tr style=\"text-align: right;\">\n",
       "      <th></th>\n",
       "      <th>sepal length (cm)</th>\n",
       "      <th>sepal width (cm)</th>\n",
       "      <th>petal length (cm)</th>\n",
       "      <th>petal width (cm)</th>\n",
       "      <th>target</th>\n",
       "      <th>flowername</th>\n",
       "    </tr>\n",
       "  </thead>\n",
       "  <tbody>\n",
       "    <tr>\n",
       "      <th>45</th>\n",
       "      <td>4.8</td>\n",
       "      <td>3.0</td>\n",
       "      <td>1.4</td>\n",
       "      <td>0.3</td>\n",
       "      <td>0</td>\n",
       "      <td>setosa</td>\n",
       "    </tr>\n",
       "    <tr>\n",
       "      <th>46</th>\n",
       "      <td>5.1</td>\n",
       "      <td>3.8</td>\n",
       "      <td>1.6</td>\n",
       "      <td>0.2</td>\n",
       "      <td>0</td>\n",
       "      <td>setosa</td>\n",
       "    </tr>\n",
       "    <tr>\n",
       "      <th>47</th>\n",
       "      <td>4.6</td>\n",
       "      <td>3.2</td>\n",
       "      <td>1.4</td>\n",
       "      <td>0.2</td>\n",
       "      <td>0</td>\n",
       "      <td>setosa</td>\n",
       "    </tr>\n",
       "    <tr>\n",
       "      <th>48</th>\n",
       "      <td>5.3</td>\n",
       "      <td>3.7</td>\n",
       "      <td>1.5</td>\n",
       "      <td>0.2</td>\n",
       "      <td>0</td>\n",
       "      <td>setosa</td>\n",
       "    </tr>\n",
       "    <tr>\n",
       "      <th>49</th>\n",
       "      <td>5.0</td>\n",
       "      <td>3.3</td>\n",
       "      <td>1.4</td>\n",
       "      <td>0.2</td>\n",
       "      <td>0</td>\n",
       "      <td>setosa</td>\n",
       "    </tr>\n",
       "    <tr>\n",
       "      <th>50</th>\n",
       "      <td>7.0</td>\n",
       "      <td>3.2</td>\n",
       "      <td>4.7</td>\n",
       "      <td>1.4</td>\n",
       "      <td>1</td>\n",
       "      <td>versicolor</td>\n",
       "    </tr>\n",
       "    <tr>\n",
       "      <th>51</th>\n",
       "      <td>6.4</td>\n",
       "      <td>3.2</td>\n",
       "      <td>4.5</td>\n",
       "      <td>1.5</td>\n",
       "      <td>1</td>\n",
       "      <td>versicolor</td>\n",
       "    </tr>\n",
       "    <tr>\n",
       "      <th>52</th>\n",
       "      <td>6.9</td>\n",
       "      <td>3.1</td>\n",
       "      <td>4.9</td>\n",
       "      <td>1.5</td>\n",
       "      <td>1</td>\n",
       "      <td>versicolor</td>\n",
       "    </tr>\n",
       "    <tr>\n",
       "      <th>53</th>\n",
       "      <td>5.5</td>\n",
       "      <td>2.3</td>\n",
       "      <td>4.0</td>\n",
       "      <td>1.3</td>\n",
       "      <td>1</td>\n",
       "      <td>versicolor</td>\n",
       "    </tr>\n",
       "    <tr>\n",
       "      <th>54</th>\n",
       "      <td>6.5</td>\n",
       "      <td>2.8</td>\n",
       "      <td>4.6</td>\n",
       "      <td>1.5</td>\n",
       "      <td>1</td>\n",
       "      <td>versicolor</td>\n",
       "    </tr>\n",
       "  </tbody>\n",
       "</table>\n",
       "</div>"
      ],
      "text/plain": [
       "    sepal length (cm)  sepal width (cm)  petal length (cm)  petal width (cm)  \\\n",
       "45                4.8               3.0                1.4               0.3   \n",
       "46                5.1               3.8                1.6               0.2   \n",
       "47                4.6               3.2                1.4               0.2   \n",
       "48                5.3               3.7                1.5               0.2   \n",
       "49                5.0               3.3                1.4               0.2   \n",
       "50                7.0               3.2                4.7               1.4   \n",
       "51                6.4               3.2                4.5               1.5   \n",
       "52                6.9               3.1                4.9               1.5   \n",
       "53                5.5               2.3                4.0               1.3   \n",
       "54                6.5               2.8                4.6               1.5   \n",
       "\n",
       "    target  flowername  \n",
       "45       0      setosa  \n",
       "46       0      setosa  \n",
       "47       0      setosa  \n",
       "48       0      setosa  \n",
       "49       0      setosa  \n",
       "50       1  versicolor  \n",
       "51       1  versicolor  \n",
       "52       1  versicolor  \n",
       "53       1  versicolor  \n",
       "54       1  versicolor  "
      ]
     },
     "execution_count": 28,
     "metadata": {},
     "output_type": "execute_result"
    }
   ],
   "source": [
    "df[45:55]"
   ]
  },
  {
   "cell_type": "code",
   "execution_count": 30,
   "id": "f353c927",
   "metadata": {},
   "outputs": [],
   "source": [
    "df0=df[:50]"
   ]
  },
  {
   "cell_type": "code",
   "execution_count": 31,
   "id": "97ca4fec",
   "metadata": {},
   "outputs": [],
   "source": [
    "df1=df[50:100]"
   ]
  },
  {
   "cell_type": "code",
   "execution_count": 32,
   "id": "ad7effd1",
   "metadata": {},
   "outputs": [],
   "source": [
    "df2=df[100:]"
   ]
  },
  {
   "cell_type": "code",
   "execution_count": 42,
   "id": "bf1a3f8c",
   "metadata": {},
   "outputs": [
    {
     "data": {
      "image/png": "[encoded data removed]",
      "text/plain": [
       "<Figure size 432x288 with 1 Axes>"
      ]
     },
     "metadata": {
      "needs_background": "light"
     },
     "output_type": "display_data"
    }
   ],
   "source": [
    "import matplotlib.pyplot as plt\n",
    "plt.scatter(df0['sepal length (cm)'],df0['sepal width (cm)'],color='green',marker='+')\n",
    "plt.xlabel=(\"Sepal Length\")\n",
    "plt.ylabel=(\"Sepal Width\")"
   ]
  },
  {
   "cell_type": "code",
   "execution_count": 44,
   "id": "b0e51ed6",
   "metadata": {},
   "outputs": [
    {
     "data": {
      "text/plain": [
       "<matplotlib.collections.PathCollection at 0x29a2c817160>"
      ]
     },
     "execution_count": 44,
     "metadata": {},
     "output_type": "execute_result"
    },
    {
     "data": {
      "image/png": "[encoded data removed]",
      "text/plain": [
       "<Figure size 432x288 with 1 Axes>"
      ]
     },
     "metadata": {
      "needs_background": "light"
     },
     "output_type": "display_data"
    }
   ],
   "source": [
    "plt.scatter(df1['sepal length (cm)'],df1['sepal width (cm)'],color='blue',marker='*')\n",
    "plt.scatter(df2['sepal length (cm)'],df2['sepal width (cm)'],color='hotpink',marker='+')"
   ]
  },
  {
   "cell_type": "code",
   "execution_count": 45,
   "id": "d10b59ed",
   "metadata": {},
   "outputs": [
    {
     "data": {
      "text/plain": [
       "<matplotlib.collections.PathCollection at 0x29a2c8d0610>"
      ]
     },
     "execution_count": 45,
     "metadata": {},
     "output_type": "execute_result"
    },
    {
     "data": {
      "image/png": "[encoded data removed]",
      "text/plain": [
       "<Figure size 432x288 with 1 Axes>"
      ]
     },
     "metadata": {
      "needs_background": "light"
     },
     "output_type": "display_data"
    }
   ],
   "source": [
    "plt.scatter(df0['petal length (cm)'],df0['petal width (cm)'],color='green',marker='+')"
   ]
  },
  {
   "cell_type": "code",
   "execution_count": 47,
   "id": "7758b361",
   "metadata": {},
   "outputs": [],
   "source": [
    "x=df.drop(['target','flowername'],axis=1)"
   ]
  },
  {
   "cell_type": "code",
   "execution_count": 48,
   "id": "8dd7a017",
   "metadata": {},
   "outputs": [],
   "source": [
    "y=df.target"
   ]
  },
  {
   "cell_type": "code",
   "execution_count": 49,
   "id": "09b4f685",
   "metadata": {},
   "outputs": [
    {
     "data": {
      "text/plain": [
       "[     sepal length (cm)  sepal width (cm)  petal length (cm)  petal width (cm)\n",
       " 91                 6.1               3.0                4.6               1.4\n",
       " 135                7.7               3.0                6.1               2.3\n",
       " 69                 5.6               2.5                3.9               1.1\n",
       " 128                6.4               2.8                5.6               2.1\n",
       " 114                5.8               2.8                5.1               2.4\n",
       " ..                 ...               ...                ...               ...\n",
       " 133                6.3               2.8                5.1               1.5\n",
       " 137                6.4               3.1                5.5               1.8\n",
       " 72                 6.3               2.5                4.9               1.5\n",
       " 140                6.7               3.1                5.6               2.4\n",
       " 37                 4.9               3.6                1.4               0.1\n",
       " \n",
       " [120 rows x 4 columns],\n",
       "      sepal length (cm)  sepal width (cm)  petal length (cm)  petal width (cm)\n",
       " 14                 5.8               4.0                1.2               0.2\n",
       " 98                 5.1               2.5                3.0               1.1\n",
       " 75                 6.6               3.0                4.4               1.4\n",
       " 16                 5.4               3.9                1.3               0.4\n",
       " 131                7.9               3.8                6.4               2.0\n",
       " 56                 6.3               3.3                4.7               1.6\n",
       " 141                6.9               3.1                5.1               2.3\n",
       " 44                 5.1               3.8                1.9               0.4\n",
       " 29                 4.7               3.2                1.6               0.2\n",
       " 120                6.9               3.2                5.7               2.3\n",
       " 94                 5.6               2.7                4.2               1.3\n",
       " 5                  5.4               3.9                1.7               0.4\n",
       " 102                7.1               3.0                5.9               2.1\n",
       " 51                 6.4               3.2                4.5               1.5\n",
       " 78                 6.0               2.9                4.5               1.5\n",
       " 42                 4.4               3.2                1.3               0.2\n",
       " 92                 5.8               2.6                4.0               1.2\n",
       " 66                 5.6               3.0                4.5               1.5\n",
       " 31                 5.4               3.4                1.5               0.4\n",
       " 35                 5.0               3.2                1.2               0.2\n",
       " 90                 5.5               2.6                4.4               1.2\n",
       " 84                 5.4               3.0                4.5               1.5\n",
       " 77                 6.7               3.0                5.0               1.7\n",
       " 40                 5.0               3.5                1.3               0.3\n",
       " 125                7.2               3.2                6.0               1.8\n",
       " 99                 5.7               2.8                4.1               1.3\n",
       " 33                 5.5               4.2                1.4               0.2\n",
       " 19                 5.1               3.8                1.5               0.3\n",
       " 73                 6.1               2.8                4.7               1.2\n",
       " 146                6.3               2.5                5.0               1.9,\n",
       " 91     1\n",
       " 135    2\n",
       " 69     1\n",
       " 128    2\n",
       " 114    2\n",
       "       ..\n",
       " 133    2\n",
       " 137    2\n",
       " 72     1\n",
       " 140    2\n",
       " 37     0\n",
       " Name: target, Length: 120, dtype: int32,\n",
       " 14     0\n",
       " 98     1\n",
       " 75     1\n",
       " 16     0\n",
       " 131    2\n",
       " 56     1\n",
       " 141    2\n",
       " 44     0\n",
       " 29     0\n",
       " 120    2\n",
       " 94     1\n",
       " 5      0\n",
       " 102    2\n",
       " 51     1\n",
       " 78     1\n",
       " 42     0\n",
       " 92     1\n",
       " 66     1\n",
       " 31     0\n",
       " 35     0\n",
       " 90     1\n",
       " 84     1\n",
       " 77     1\n",
       " 40     0\n",
       " 125    2\n",
       " 99     1\n",
       " 33     0\n",
       " 19     0\n",
       " 73     1\n",
       " 146    2\n",
       " Name: target, dtype: int32]"
      ]
     },
     "execution_count": 49,
     "metadata": {},
     "output_type": "execute_result"
    }
   ],
   "source": [
    "train_test_split(x,y,test_size=0.2,random_state=1)"
   ]
  },
  {
   "cell_type": "code",
   "execution_count": 51,
   "id": "53b9851c",
   "metadata": {},
   "outputs": [
    {
     "data": {
      "text/plain": [
       "(150, 6)"
      ]
     },
     "execution_count": 51,
     "metadata": {},
     "output_type": "execute_result"
    }
   ],
   "source": [
    "df.shape"
   ]
  },
  {
   "cell_type": "code",
   "execution_count": 58,
   "id": "a7dc5388",
   "metadata": {},
   "outputs": [
    {
     "data": {
      "text/plain": [
       "100"
      ]
     },
     "execution_count": 58,
     "metadata": {},
     "output_type": "execute_result"
    }
   ],
   "source": [
    "import numpy as np\n",
    "from sklearn.model_selection import train_test_split\n",
    "x_train,x_test,y_train,y_test=train_test_split(x,y,test_size=0.33,random_state=42)\n",
    "len(x_train)"
   ]
  },
  {
   "cell_type": "code",
   "execution_count": 55,
   "id": "7c4ae2dd",
   "metadata": {},
   "outputs": [],
   "source": [
    "from sklearn.neighbors import KNeighborsClassifier "
   ]
  },
  {
   "cell_type": "code",
   "execution_count": 61,
   "id": "5e03e432",
   "metadata": {},
   "outputs": [],
   "source": [
    "knn=KNeighborsClassifier(n_neighbors=10)  #knn-model is ready"
   ]
  },
  {
   "cell_type": "code",
   "execution_count": 62,
   "id": "b4c409bd",
   "metadata": {},
   "outputs": [
    {
     "data": {
      "text/plain": [
       "KNeighborsClassifier(n_neighbors=10)"
      ]
     },
     "execution_count": 62,
     "metadata": {},
     "output_type": "execute_result"
    }
   ],
   "source": [
    "knn.fit(x_train,y_train)      #now fit"
   ]
  },
  {
   "cell_type": "code",
   "execution_count": 63,
   "id": "a9a62878",
   "metadata": {},
   "outputs": [],
   "source": [
    "#fit....model is trained and ready"
   ]
  },
  {
   "cell_type": "code",
   "execution_count": 66,
   "id": "132b598e",
   "metadata": {},
   "outputs": [
    {
     "name": "stderr",
     "output_type": "stream",
     "text": [
      "C:\\Users\\user\\anaconda3\\lib\\site-packages\\numpy\\core\\_asarray.py:102: VisibleDeprecationWarning: Creating an ndarray from ragged nested sequences (which is a list-or-tuple of lists-or-tuples-or ndarrays with different lengths or shapes) is deprecated. If you meant to do this, you must specify 'dtype=object' when creating the ndarray.\n",
      "  return array(a, dtype, copy=False, order=order)\n"
     ]
    },
    {
     "ename": "ValueError",
     "evalue": "Expected 2D array, got 1D array instead:\narray=[     sepal length (cm)  sepal width (cm)  petal length (cm)  petal width (cm)\n 96                 5.7               2.9                4.2               1.3\n 105                7.6               3.0                6.6               2.1\n 66                 5.6               3.0                4.5               1.5\n 0                  5.1               3.5                1.4               0.2\n 122                7.7               2.8                6.7               2.0\n ..                 ...               ...                ...               ...\n 71                 6.1               2.8                4.0               1.3\n 106                4.9               2.5                4.5               1.7\n 14                 5.8               4.0                1.2               0.2\n 92                 5.8               2.6                4.0               1.2\n 102                7.1               3.0                5.9               2.1\n\n [100 rows x 4 columns]\n      sepal length (cm)  sepal width (cm)  petal length (cm)  petal width (cm)\n 73                 6.1               2.8                4.7               1.2\n 18                 5.7               3.8                1.7               0.3\n 118                7.7               2.6                6.9               2.3\n 78                 6.0               2.9                4.5               1.5\n 76                 6.8               2.8                4.8               1.4\n 31                 5.4               3.4                1.5               0.4\n 64                 5.6               2.9                3.6               1.3\n 141                6.9               3.1                5.1               2.3\n 68                 6.2               2.2                4.5               1.5\n 82                 5.8               2.7                3.9               1.2\n 110                6.5               3.2                5.1               2.0\n 12                 4.8               3.0                1.4               0.1\n 36                 5.5               3.5                1.3               0.2\n 9                  4.9               3.1                1.5               0.1\n 19                 5.1               3.8                1.5               0.3\n 56                 6.3               3.3                4.7               1.6\n 104                6.5               3.0                5.8               2.2\n 69                 5.6               2.5                3.9               1.1\n 55                 5.7               2.8                4.5               1.3\n 132                6.4               2.8                5.6               2.2\n 29                 4.7               3.2                1.6               0.2\n 127                6.1               3.0                4.9               1.8\n 26                 5.0               3.4                1.6               0.4\n 128                6.4               2.8                5.6               2.1\n 131                7.9               3.8                6.4               2.0\n 145                6.7               3.0                5.2               2.3\n 108                6.7               2.5                5.8               1.8\n 143                6.8               3.2                5.9               2.3\n 45                 4.8               3.0                1.4               0.3\n 30                 4.8               3.1                1.6               0.2\n 22                 4.6               3.6                1.0               0.2\n 15                 5.7               4.4                1.5               0.4\n 65                 6.7               3.1                4.4               1.4\n 11                 4.8               3.4                1.6               0.2\n 42                 4.4               3.2                1.3               0.2\n 146                6.3               2.5                5.0               1.9\n 51                 6.4               3.2                4.5               1.5\n 27                 5.2               3.5                1.5               0.2\n 4                  5.0               3.6                1.4               0.2\n 32                 5.2               4.1                1.5               0.1\n 142                5.8               2.7                5.1               1.9\n 85                 6.0               3.4                4.5               1.6\n 86                 6.7               3.1                4.7               1.5\n 16                 5.4               3.9                1.3               0.4\n 10                 5.4               3.7                1.5               0.2\n 81                 5.5               2.4                3.7               1.0\n 133                6.3               2.8                5.1               1.5\n 137                6.4               3.1                5.5               1.8\n 75                 6.6               3.0                4.4               1.4\n 109                7.2               3.6                6.1               2.5\n 96     1\n 105    2\n 66     1\n 0      0\n 122    2\n       ..\n 71     1\n 106    2\n 14     0\n 92     1\n 102    2\n Name: target, Length: 100, dtype: int32 73     1\n                                         18     0\n                                         118    2\n                                         78     1\n                                         76     1\n                                         31     0\n                                         64     1\n                                         141    2\n                                         68     1\n                                         82     1\n                                         110    2\n                                         12     0\n                                         36     0\n                                         9      0\n                                         19     0\n                                         56     1\n                                         104    2\n                                         69     1\n                                         55     1\n                                         132    2\n                                         29     0\n                                         127    2\n                                         26     0\n                                         128    2\n                                         131    2\n                                         145    2\n                                         108    2\n                                         143    2\n                                         45     0\n                                         30     0\n                                         22     0\n                                         15     0\n                                         65     1\n                                         11     0\n                                         42     0\n                                         146    2\n                                         51     1\n                                         27     0\n                                         4      0\n                                         32     0\n                                         142    2\n                                         85     1\n                                         86     1\n                                         16     0\n                                         10     0\n                                         81     1\n                                         133    2\n                                         137    2\n                                         75     1\n                                         109    2\n                                         Name: target, dtype: int32].\nReshape your data either using array.reshape(-1, 1) if your data has a single feature or array.reshape(1, -1) if it contains a single sample.",
     "output_type": "error",
     "traceback": [
      "\u001b[1;31m---------------------------------------------------------------------------\u001b[0m",
      "\u001b[1;31mValueError\u001b[0m                                Traceback (most recent call last)",
      "\u001b[1;32m~\\AppData\\Local\\Temp/ipykernel_22272/1714082096.py\u001b[0m in \u001b[0;36m<module>\u001b[1;34m\u001b[0m\n\u001b[0;32m      1\u001b[0m \u001b[1;31m#now predict/test\u001b[0m\u001b[1;33m\u001b[0m\u001b[1;33m\u001b[0m\u001b[0m\n\u001b[1;32m----> 2\u001b[1;33m \u001b[0mknn\u001b[0m\u001b[1;33m.\u001b[0m\u001b[0mpredict\u001b[0m\u001b[1;33m(\u001b[0m\u001b[1;33m[\u001b[0m\u001b[0mx_train\u001b[0m\u001b[1;33m,\u001b[0m\u001b[0mx_test\u001b[0m\u001b[1;33m,\u001b[0m\u001b[0my_train\u001b[0m\u001b[1;33m,\u001b[0m\u001b[0my_test\u001b[0m\u001b[1;33m]\u001b[0m\u001b[1;33m)\u001b[0m\u001b[1;33m\u001b[0m\u001b[1;33m\u001b[0m\u001b[0m\n\u001b[0m",
      "\u001b[1;32m~\\anaconda3\\lib\\site-packages\\sklearn\\neighbors\\_classification.py\u001b[0m in \u001b[0;36mpredict\u001b[1;34m(self, X)\u001b[0m\n\u001b[0;32m    193\u001b[0m             \u001b[0mClass\u001b[0m \u001b[0mlabels\u001b[0m \u001b[1;32mfor\u001b[0m \u001b[0meach\u001b[0m \u001b[0mdata\u001b[0m \u001b[0msample\u001b[0m\u001b[1;33m.\u001b[0m\u001b[1;33m\u001b[0m\u001b[1;33m\u001b[0m\u001b[0m\n\u001b[0;32m    194\u001b[0m         \"\"\"\n\u001b[1;32m--> 195\u001b[1;33m         \u001b[0mX\u001b[0m \u001b[1;33m=\u001b[0m \u001b[0mcheck_array\u001b[0m\u001b[1;33m(\u001b[0m\u001b[0mX\u001b[0m\u001b[1;33m,\u001b[0m \u001b[0maccept_sparse\u001b[0m\u001b[1;33m=\u001b[0m\u001b[1;34m'csr'\u001b[0m\u001b[1;33m)\u001b[0m\u001b[1;33m\u001b[0m\u001b[1;33m\u001b[0m\u001b[0m\n\u001b[0m\u001b[0;32m    196\u001b[0m \u001b[1;33m\u001b[0m\u001b[0m\n\u001b[0;32m    197\u001b[0m         \u001b[0mneigh_dist\u001b[0m\u001b[1;33m,\u001b[0m \u001b[0mneigh_ind\u001b[0m \u001b[1;33m=\u001b[0m \u001b[0mself\u001b[0m\u001b[1;33m.\u001b[0m\u001b[0mkneighbors\u001b[0m\u001b[1;33m(\u001b[0m\u001b[0mX\u001b[0m\u001b[1;33m)\u001b[0m\u001b[1;33m\u001b[0m\u001b[1;33m\u001b[0m\u001b[0m\n",
      "\u001b[1;32m~\\anaconda3\\lib\\site-packages\\sklearn\\utils\\validation.py\u001b[0m in \u001b[0;36minner_f\u001b[1;34m(*args, **kwargs)\u001b[0m\n\u001b[0;32m     61\u001b[0m             \u001b[0mextra_args\u001b[0m \u001b[1;33m=\u001b[0m \u001b[0mlen\u001b[0m\u001b[1;33m(\u001b[0m\u001b[0margs\u001b[0m\u001b[1;33m)\u001b[0m \u001b[1;33m-\u001b[0m \u001b[0mlen\u001b[0m\u001b[1;33m(\u001b[0m\u001b[0mall_args\u001b[0m\u001b[1;33m)\u001b[0m\u001b[1;33m\u001b[0m\u001b[1;33m\u001b[0m\u001b[0m\n\u001b[0;32m     62\u001b[0m             \u001b[1;32mif\u001b[0m \u001b[0mextra_args\u001b[0m \u001b[1;33m<=\u001b[0m \u001b[1;36m0\u001b[0m\u001b[1;33m:\u001b[0m\u001b[1;33m\u001b[0m\u001b[1;33m\u001b[0m\u001b[0m\n\u001b[1;32m---> 63\u001b[1;33m                 \u001b[1;32mreturn\u001b[0m \u001b[0mf\u001b[0m\u001b[1;33m(\u001b[0m\u001b[1;33m*\u001b[0m\u001b[0margs\u001b[0m\u001b[1;33m,\u001b[0m \u001b[1;33m**\u001b[0m\u001b[0mkwargs\u001b[0m\u001b[1;33m)\u001b[0m\u001b[1;33m\u001b[0m\u001b[1;33m\u001b[0m\u001b[0m\n\u001b[0m\u001b[0;32m     64\u001b[0m \u001b[1;33m\u001b[0m\u001b[0m\n\u001b[0;32m     65\u001b[0m             \u001b[1;31m# extra_args > 0\u001b[0m\u001b[1;33m\u001b[0m\u001b[1;33m\u001b[0m\u001b[0m\n",
      "\u001b[1;32m~\\anaconda3\\lib\\site-packages\\sklearn\\utils\\validation.py\u001b[0m in \u001b[0;36mcheck_array\u001b[1;34m(array, accept_sparse, accept_large_sparse, dtype, order, copy, force_all_finite, ensure_2d, allow_nd, ensure_min_samples, ensure_min_features, estimator)\u001b[0m\n\u001b[0;32m    692\u001b[0m             \u001b[1;31m# If input is 1D raise error\u001b[0m\u001b[1;33m\u001b[0m\u001b[1;33m\u001b[0m\u001b[0m\n\u001b[0;32m    693\u001b[0m             \u001b[1;32mif\u001b[0m \u001b[0marray\u001b[0m\u001b[1;33m.\u001b[0m\u001b[0mndim\u001b[0m \u001b[1;33m==\u001b[0m \u001b[1;36m1\u001b[0m\u001b[1;33m:\u001b[0m\u001b[1;33m\u001b[0m\u001b[1;33m\u001b[0m\u001b[0m\n\u001b[1;32m--> 694\u001b[1;33m                 raise ValueError(\n\u001b[0m\u001b[0;32m    695\u001b[0m                     \u001b[1;34m\"Expected 2D array, got 1D array instead:\\narray={}.\\n\"\u001b[0m\u001b[1;33m\u001b[0m\u001b[1;33m\u001b[0m\u001b[0m\n\u001b[0;32m    696\u001b[0m                     \u001b[1;34m\"Reshape your data either using array.reshape(-1, 1) if \"\u001b[0m\u001b[1;33m\u001b[0m\u001b[1;33m\u001b[0m\u001b[0m\n",
      "\u001b[1;31mValueError\u001b[0m: Expected 2D array, got 1D array instead:\narray=[     sepal length (cm)  sepal width (cm)  petal length (cm)  petal width (cm)\n 96                 5.7               2.9                4.2               1.3\n 105                7.6               3.0                6.6               2.1\n 66                 5.6               3.0                4.5               1.5\n 0                  5.1               3.5                1.4               0.2\n 122                7.7               2.8                6.7               2.0\n ..                 ...               ...                ...               ...\n 71                 6.1               2.8                4.0               1.3\n 106                4.9               2.5                4.5               1.7\n 14                 5.8               4.0                1.2               0.2\n 92                 5.8               2.6                4.0               1.2\n 102                7.1               3.0                5.9               2.1\n\n [100 rows x 4 columns]\n      sepal length (cm)  sepal width (cm)  petal length (cm)  petal width (cm)\n 73                 6.1               2.8                4.7               1.2\n 18                 5.7               3.8                1.7               0.3\n 118                7.7               2.6                6.9               2.3\n 78                 6.0               2.9                4.5               1.5\n 76                 6.8               2.8                4.8               1.4\n 31                 5.4               3.4                1.5               0.4\n 64                 5.6               2.9                3.6               1.3\n 141                6.9               3.1                5.1               2.3\n 68                 6.2               2.2                4.5               1.5\n 82                 5.8               2.7                3.9               1.2\n 110                6.5               3.2                5.1               2.0\n 12                 4.8               3.0                1.4               0.1\n 36                 5.5               3.5                1.3               0.2\n 9                  4.9               3.1                1.5               0.1\n 19                 5.1               3.8                1.5               0.3\n 56                 6.3               3.3                4.7               1.6\n 104                6.5               3.0                5.8               2.2\n 69                 5.6               2.5                3.9               1.1\n 55                 5.7               2.8                4.5               1.3\n 132                6.4               2.8                5.6               2.2\n 29                 4.7               3.2                1.6               0.2\n 127                6.1               3.0                4.9               1.8\n 26                 5.0               3.4                1.6               0.4\n 128                6.4               2.8                5.6               2.1\n 131                7.9               3.8                6.4               2.0\n 145                6.7               3.0                5.2               2.3\n 108                6.7               2.5                5.8               1.8\n 143                6.8               3.2                5.9               2.3\n 45                 4.8               3.0                1.4               0.3\n 30                 4.8               3.1                1.6               0.2\n 22                 4.6               3.6                1.0               0.2\n 15                 5.7               4.4                1.5               0.4\n 65                 6.7               3.1                4.4               1.4\n 11                 4.8               3.4                1.6               0.2\n 42                 4.4               3.2                1.3               0.2\n 146                6.3               2.5                5.0               1.9\n 51                 6.4               3.2                4.5               1.5\n 27                 5.2               3.5                1.5               0.2\n 4                  5.0               3.6                1.4               0.2\n 32                 5.2               4.1                1.5               0.1\n 142                5.8               2.7                5.1               1.9\n 85                 6.0               3.4                4.5               1.6\n 86                 6.7               3.1                4.7               1.5\n 16                 5.4               3.9                1.3               0.4\n 10                 5.4               3.7                1.5               0.2\n 81                 5.5               2.4                3.7               1.0\n 133                6.3               2.8                5.1               1.5\n 137                6.4               3.1                5.5               1.8\n 75                 6.6               3.0                4.4               1.4\n 109                7.2               3.6                6.1               2.5\n 96     1\n 105    2\n 66     1\n 0      0\n 122    2\n       ..\n 71     1\n 106    2\n 14     0\n 92     1\n 102    2\n Name: target, Length: 100, dtype: int32 73     1\n                                         18     0\n                                         118    2\n                                         78     1\n                                         76     1\n                                         31     0\n                                         64     1\n                                         141    2\n                                         68     1\n                                         82     1\n                                         110    2\n                                         12     0\n                                         36     0\n                                         9      0\n                                         19     0\n                                         56     1\n                                         104    2\n                                         69     1\n                                         55     1\n                                         132    2\n                                         29     0\n                                         127    2\n                                         26     0\n                                         128    2\n                                         131    2\n                                         145    2\n                                         108    2\n                                         143    2\n                                         45     0\n                                         30     0\n                                         22     0\n                                         15     0\n                                         65     1\n                                         11     0\n                                         42     0\n                                         146    2\n                                         51     1\n                                         27     0\n                                         4      0\n                                         32     0\n                                         142    2\n                                         85     1\n                                         86     1\n                                         16     0\n                                         10     0\n                                         81     1\n                                         133    2\n                                         137    2\n                                         75     1\n                                         109    2\n                                         Name: target, dtype: int32].\nReshape your data either using array.reshape(-1, 1) if your data has a single feature or array.reshape(1, -1) if it contains a single sample."
     ]
    }
   ],
   "source": [
    "#now predict/test\n",
    "knn.predict([x_train,x_test,y_train,y_test])"
   ]
  },
  {
   "cell_type": "code",
   "execution_count": 69,
   "id": "c21bd346",
   "metadata": {},
   "outputs": [
    {
     "data": {
      "text/plain": [
       "array([0])"
      ]
     },
     "execution_count": 69,
     "metadata": {},
     "output_type": "execute_result"
    }
   ],
   "source": [
    "knn.predict([[4.8,3.0,1.0,5.3]])"
   ]
  },
  {
   "cell_type": "code",
   "execution_count": 70,
   "id": "68f6d776",
   "metadata": {},
   "outputs": [],
   "source": [
    "y_pred=knn.predict(x_test)"
   ]
  },
  {
   "cell_type": "code",
   "execution_count": 71,
   "id": "e9b5d702",
   "metadata": {},
   "outputs": [
    {
     "data": {
      "text/plain": [
       "array([1, 0, 2, 1, 1, 0, 1, 2, 1, 1, 2, 0, 0, 0, 0, 1, 2, 1, 1, 2, 0, 2,\n",
       "       0, 2, 2, 2, 2, 2, 0, 0, 0, 0, 1, 0, 0, 2, 1, 0, 0, 0, 2, 1, 1, 0,\n",
       "       0, 1, 1, 2, 1, 2])"
      ]
     },
     "execution_count": 71,
     "metadata": {},
     "output_type": "execute_result"
    }
   ],
   "source": [
    "y_pred"
   ]
  },
  {
   "cell_type": "code",
   "execution_count": 78,
   "id": "3a801437",
   "metadata": {},
   "outputs": [
    {
     "data": {
      "text/plain": [
       "0.98"
      ]
     },
     "execution_count": 78,
     "metadata": {},
     "output_type": "execute_result"
    }
   ],
   "source": [
    "knn.score(x_test,y_test)"
   ]
  },
  {
   "cell_type": "code",
   "execution_count": 79,
   "id": "86aff1e3",
   "metadata": {},
   "outputs": [],
   "source": [
    "from sklearn.metrics import accuracy_score"
   ]
  },
  {
   "cell_type": "code",
   "execution_count": 80,
   "id": "1de1af24",
   "metadata": {},
   "outputs": [
    {
     "data": {
      "text/plain": [
       "0.98"
      ]
     },
     "execution_count": 80,
     "metadata": {},
     "output_type": "execute_result"
    }
   ],
   "source": [
    "accuracy_score(y_test,y_pred)"
   ]
  },
  {
   "cell_type": "code",
   "execution_count": 82,
   "id": "7e925f4a",
   "metadata": {},
   "outputs": [],
   "source": [
    "from sklearn.metrics import classification_report"
   ]
  },
  {
   "cell_type": "code",
   "execution_count": 83,
   "id": "1509d167",
   "metadata": {},
   "outputs": [
    {
     "name": "stdout",
     "output_type": "stream",
     "text": [
      "              precision    recall  f1-score   support\n",
      "\n",
      "           0       1.00      1.00      1.00        19\n",
      "           1       0.94      1.00      0.97        15\n",
      "           2       1.00      0.94      0.97        16\n",
      "\n",
      "    accuracy                           0.98        50\n",
      "   macro avg       0.98      0.98      0.98        50\n",
      "weighted avg       0.98      0.98      0.98        50\n",
      "\n"
     ]
    }
   ],
   "source": [
    "print(classification_report(y_test,y_pred))"
   ]
  },
  {
   "cell_type": "code",
   "execution_count": 84,
   "id": "55af1528",
   "metadata": {},
   "outputs": [],
   "source": [
    "#Confusion Matrix"
   ]
  },
  {
   "cell_type": "code",
   "execution_count": 85,
   "id": "b9c087ca",
   "metadata": {},
   "outputs": [],
   "source": [
    "from sklearn.metrics import confusion_matrix"
   ]
  },
  {
   "cell_type": "code",
   "execution_count": 86,
   "id": "3b37e82d",
   "metadata": {},
   "outputs": [],
   "source": [
    "cm=confusion_matrix(y_test,y_pred)"
   ]
  },
  {
   "cell_type": "code",
   "execution_count": 88,
   "id": "c8488ce1",
   "metadata": {},
   "outputs": [
    {
     "data": {
      "text/plain": [
       "<AxesSubplot:>"
      ]
     },
     "execution_count": 88,
     "metadata": {},
     "output_type": "execute_result"
    },
    {
     "data": {
      "image/png": "[encoded data removed]",
      "text/plain": [
       "<Figure size 432x288 with 2 Axes>"
      ]
     },
     "metadata": {
      "needs_background": "light"
     },
     "output_type": "display_data"
    }
   ],
   "source": [
    "import seaborn as sns\n",
    "sns.heatmap(cm,annot=True,fmt='d',cmap=\"Blues\")   #cmap=color screen"
   ]
  },
  {
   "cell_type": "code",
   "execution_count": 89,
   "id": "c5686b62",
   "metadata": {},
   "outputs": [
    {
     "name": "stdout",
     "output_type": "stream",
     "text": [
      "     Actual  Predicted\n",
      "73        1          1\n",
      "18        0          0\n",
      "118       2          2\n",
      "78        1          1\n",
      "76        1          1\n",
      "31        0          0\n",
      "64        1          1\n",
      "141       2          2\n",
      "68        1          1\n",
      "82        1          1\n",
      "110       2          2\n",
      "12        0          0\n",
      "36        0          0\n",
      "9         0          0\n",
      "19        0          0\n",
      "56        1          1\n",
      "104       2          2\n",
      "69        1          1\n",
      "55        1          1\n",
      "132       2          2\n",
      "29        0          0\n",
      "127       2          2\n",
      "26        0          0\n",
      "128       2          2\n",
      "131       2          2\n"
     ]
    }
   ],
   "source": [
    "df1=pd.DataFrame({'Actual':y_test,'Predicted':y_pred})\n",
    "print(df1.head(25))"
   ]
  },
  {
   "cell_type": "code",
   "execution_count": null,
   "id": "18da3632",
   "metadata": {},
   "outputs": [],
   "source": []
  }
 ],
 "metadata": {
  "kernelspec": {
   "display_name": "Python 3 (ipykernel)",
   "language": "python",
   "name": "python3"
  },
  "language_info": {
   "codemirror_mode": {
    "name": "ipython",
    "version": 3
   },
   "file_extension": ".py",
   "mimetype": "text/x-python",
   "name": "python",
   "nbconvert_exporter": "python",
   "pygments_lexer": "ipython3",
   "version": "3.9.7"
  }
 },
 "nbformat": 4,
 "nbformat_minor": 5
}
