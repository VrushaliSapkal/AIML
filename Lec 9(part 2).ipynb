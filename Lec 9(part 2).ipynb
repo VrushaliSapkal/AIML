{
 "cells": [
  {
   "cell_type": "code",
   "execution_count": 1,
   "id": "9a6f4129",
   "metadata": {},
   "outputs": [],
   "source": [
    "import pickle\n"
   ]
  },
  {
   "cell_type": "code",
   "execution_count": 2,
   "id": "9975a058",
   "metadata": {},
   "outputs": [],
   "source": [
    "filename=\"BostonLinearRegressionModel.pickle\"\n"
   ]
  },
  {
   "cell_type": "code",
   "execution_count": 3,
   "id": "79697063",
   "metadata": {},
   "outputs": [],
   "source": [
    "loaded_model=pickle.load(open(filename,'rb'))"
   ]
  }
 ],
 "metadata": {
  "kernelspec": {
   "display_name": "Python 3 (ipykernel)",
   "language": "python",
   "name": "python3"
  },
  "language_info": {
   "codemirror_mode": {
    "name": "ipython",
    "version": 3
   },
   "file_extension": ".py",
   "mimetype": "text/x-python",
   "name": "python",
   "nbconvert_exporter": "python",
   "pygments_lexer": "ipython3",
   "version": "3.9.7"
  }
 },
 "nbformat": 4,
 "nbformat_minor": 5
}
