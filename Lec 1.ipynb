{
 "cells": [
  {
   "cell_type": "code",
   "execution_count": 27,
   "id": "d048c878",
   "metadata": {},
   "outputs": [],
   "source": [
    "#Saturday 12-02-2022"
   ]
  },
  {
   "cell_type": "code",
   "execution_count": 28,
   "id": "b8436f4e",
   "metadata": {},
   "outputs": [],
   "source": [
    "l1=[6,7,4,8,9,2,3,1,21,45]\n",
    "\n"
   ]
  },
  {
   "cell_type": "code",
   "execution_count": 29,
   "id": "73aceabd",
   "metadata": {},
   "outputs": [
    {
     "name": "stdout",
     "output_type": "stream",
     "text": [
      "The length of l1 is: 10\n"
     ]
    }
   ],
   "source": [
    "print (\"The length of l1 is:\", len(l1))\n"
   ]
  },
  {
   "cell_type": "code",
   "execution_count": 30,
   "id": "689a18a5",
   "metadata": {},
   "outputs": [],
   "source": [
    "sum1=0\n"
   ]
  },
  {
   "cell_type": "code",
   "execution_count": 31,
   "id": "c5c9d98e",
   "metadata": {},
   "outputs": [
    {
     "name": "stdout",
     "output_type": "stream",
     "text": [
      "6\n",
      "13\n",
      "17\n",
      "25\n",
      "34\n",
      "36\n",
      "39\n",
      "40\n",
      "61\n",
      "106\n"
     ]
    }
   ],
   "source": [
    "for i in l1:\n",
    "    sum1=sum1+i\n",
    "    print(sum1)\n",
    "    \n",
    "     \n",
    "      "
   ]
  },
  {
   "cell_type": "code",
   "execution_count": 33,
   "id": "d9c82bb1",
   "metadata": {},
   "outputs": [
    {
     "name": "stdout",
     "output_type": "stream",
     "text": [
      "The length of l1 is: 10\n",
      "6\n",
      "13\n",
      "17\n",
      "25\n",
      "34\n",
      "36\n",
      "39\n",
      "40\n",
      "61\n",
      "106\n"
     ]
    }
   ],
   "source": [
    "l1=[6,7,4,8,9,2,3,1,21,45]\n",
    "print(\"The length of l1 is:\",len(l1))\n",
    "sum1=0\n",
    "for i in l1:\n",
    "    sum1=sum1+i\n",
    "    print(sum1)\n",
    "    "
   ]
  },
  {
   "cell_type": "code",
   "execution_count": 34,
   "id": "847b84d1",
   "metadata": {},
   "outputs": [],
   "source": [
    "#For loop with break"
   ]
  },
  {
   "cell_type": "code",
   "execution_count": 41,
   "id": "be81ca6d",
   "metadata": {},
   "outputs": [
    {
     "name": "stdout",
     "output_type": "stream",
     "text": [
      "4\n",
      "9\n",
      "16\n",
      "24\n"
     ]
    }
   ],
   "source": [
    "lst=[4,5,7,8,1,3,9]\n",
    "s1=0\n",
    "for i in lst:\n",
    "    s1=s1+i\n",
    "    if i==1:\n",
    "        break\n",
    "    print(s1)"
   ]
  },
  {
   "cell_type": "code",
   "execution_count": 42,
   "id": "d3d68354",
   "metadata": {},
   "outputs": [
    {
     "name": "stdout",
     "output_type": "stream",
     "text": [
      "6\n",
      "0\n",
      "6\n",
      "7\n",
      "10\n",
      "7\n",
      "18\n",
      "7\n",
      "18\n",
      "16\n",
      "20\n",
      "16\n",
      "20\n",
      "19\n",
      "20\n",
      "20\n",
      "20\n",
      "41\n",
      "20\n",
      "86\n"
     ]
    }
   ],
   "source": [
    "lst=[1,2,4,3,5,9]\n",
    "e, o =0, 0\n",
    "for i in l1:\n",
    "    if (i%2==0):\n",
    "        e=e+i\n",
    "    else:\n",
    "        o=o+i\n",
    "    print(e)\n",
    "    print(o)"
   ]
  },
  {
   "cell_type": "code",
   "execution_count": 43,
   "id": "20c4b56e",
   "metadata": {},
   "outputs": [],
   "source": [
    "#For else with else"
   ]
  },
  {
   "cell_type": "code",
   "execution_count": 44,
   "id": "4f61c3aa",
   "metadata": {},
   "outputs": [
    {
     "name": "stdout",
     "output_type": "stream",
     "text": [
      "0\n",
      "0\n",
      "0\n",
      "0\n",
      "0\n",
      "0\n"
     ]
    }
   ],
   "source": [
    "l1=[3,5,6,7,8,9,1,4,9]\n",
    "s2=0\n",
    "for i in l1:\n",
    "    if i==1:\n",
    "        break\n",
    "        s2=s2+i\n",
    "    else:\n",
    "        print(s2)"
   ]
  },
  {
   "cell_type": "code",
   "execution_count": 4,
   "id": "785280e4",
   "metadata": {},
   "outputs": [],
   "source": [
    "#Find the sum of even and odd no. if even sum is greater than 20or odd sum is greater than 40 put a break\n",
    "#If not print the sum"
   ]
  },
  {
   "cell_type": "code",
   "execution_count": 3,
   "id": "ba63a595",
   "metadata": {},
   "outputs": [
    {
     "name": "stdout",
     "output_type": "stream",
     "text": [
      "0\n",
      "3\n",
      "0\n",
      "8\n",
      "6\n",
      "15\n",
      "14\n",
      "24\n",
      "14\n",
      "25\n"
     ]
    }
   ],
   "source": [
    "l2=[3,5,6,7,8,9,1,2,12,20,14,15,45,10,11]\n",
    "e, o=0, 0\n",
    "for i in l2:\n",
    "    if i%2==0:\n",
    "        e=e+i\n",
    "    else:\n",
    "        o=o+i\n",
    "        \n",
    "        if (e>20 or o>40):\n",
    "            break\n",
    "        else:\n",
    "            print(e)\n",
    "            print(o)"
   ]
  },
  {
   "cell_type": "code",
   "execution_count": 5,
   "id": "bfb1f474",
   "metadata": {},
   "outputs": [
    {
     "name": "stdout",
     "output_type": "stream",
     "text": [
      "Finished\n"
     ]
    }
   ],
   "source": [
    "num=10\n",
    "while(num<6):\n",
    "    print(num)\n",
    "    num=num-1\n",
    "else:\n",
    "    print(\"Finished\")"
   ]
  },
  {
   "cell_type": "code",
   "execution_count": 6,
   "id": "b17cef03",
   "metadata": {},
   "outputs": [
    {
     "data": {
      "text/plain": [
       "[0, 1, 2, 3, 4, 5, 6, 7, 8, 9]"
      ]
     },
     "execution_count": 6,
     "metadata": {},
     "output_type": "execute_result"
    }
   ],
   "source": [
    "list(range(10))"
   ]
  },
  {
   "cell_type": "code",
   "execution_count": 7,
   "id": "b4e307f5",
   "metadata": {},
   "outputs": [
    {
     "name": "stdout",
     "output_type": "stream",
     "text": [
      "1 5\n",
      "2 6\n",
      "3 7\n"
     ]
    }
   ],
   "source": [
    "i=1\n",
    "j=5\n",
    "while i<4:\n",
    "    while j<8:\n",
    "        print(i,j)\n",
    "        i=i+1\n",
    "        j=j+1"
   ]
  },
  {
   "cell_type": "code",
   "execution_count": 8,
   "id": "f155dce5",
   "metadata": {},
   "outputs": [
    {
     "name": "stdout",
     "output_type": "stream",
     "text": [
      "[100, 98, 96, 94, 92, 90, 88, 86, 84, 82, 80, 78, 76, 74, 72, 70, 68, 66, 64, 62, 60, 58, 56, 54, 52, 50, 48, 46, 44, 42, 40, 38, 36, 34, 32, 30, 28, 26, 24, 22, 20, 18, 16, 14, 12, 10, 8, 6, 4, 2]\n"
     ]
    }
   ],
   "source": [
    "l1=list(range(100,0,-2))                    #2 is for increment\n",
    "print(l1)\n"
   ]
  },
  {
   "cell_type": "code",
   "execution_count": 10,
   "id": "9c09a3b7",
   "metadata": {},
   "outputs": [
    {
     "name": "stdout",
     "output_type": "stream",
     "text": [
      "i\n"
     ]
    }
   ],
   "source": [
    "#For val in string\n",
    "val=\"i\"\n",
    "if val==\"i\":\n",
    "           print(val)\n",
    "else:\n",
    "    print(\"The End\")"
   ]
  },
  {
   "cell_type": "code",
   "execution_count": 1,
   "id": "f36a0f96",
   "metadata": {},
   "outputs": [
    {
     "name": "stdout",
     "output_type": "stream",
     "text": [
      "10\n",
      "9\n",
      "8\n",
      "7\n",
      "Finished\n"
     ]
    }
   ],
   "source": [
    "num=10\n",
    "while(num>6):\n",
    "    print(num)\n",
    "    num=num-1\n",
    "else:\n",
    "    print(\"Finished\")"
   ]
  },
  {
   "cell_type": "code",
   "execution_count": 2,
   "id": "ce7ca1f9",
   "metadata": {},
   "outputs": [
    {
     "name": "stdout",
     "output_type": "stream",
     "text": [
      "End\n"
     ]
    }
   ],
   "source": [
    "vali=\"j\"\n",
    "while vali==\"i\":\n",
    "    continue\n",
    "    print(vali)\n",
    "else:\n",
    "    print(\"End\")"
   ]
  },
  {
   "cell_type": "code",
   "execution_count": 2,
   "id": "98f4fd22",
   "metadata": {},
   "outputs": [
    {
     "data": {
      "text/plain": [
       "'Hello World'"
      ]
     },
     "execution_count": 2,
     "metadata": {},
     "output_type": "execute_result"
    }
   ],
   "source": [
    "#To write whole string\n",
    "S=\"Hello World\"\n",
    "S[:]"
   ]
  },
  {
   "cell_type": "code",
   "execution_count": 4,
   "id": "14196cbe",
   "metadata": {},
   "outputs": [
    {
     "data": {
      "text/plain": [
       "''"
      ]
     },
     "execution_count": 4,
     "metadata": {},
     "output_type": "execute_result"
    }
   ],
   "source": [
    "S[2:0]"
   ]
  },
  {
   "cell_type": "code",
   "execution_count": 5,
   "id": "2dbba440",
   "metadata": {},
   "outputs": [
    {
     "data": {
      "text/plain": [
       "'Hello '"
      ]
     },
     "execution_count": 5,
     "metadata": {},
     "output_type": "execute_result"
    }
   ],
   "source": [
    "S[:6]"
   ]
  },
  {
   "cell_type": "code",
   "execution_count": 6,
   "id": "29fcec03",
   "metadata": {},
   "outputs": [
    {
     "data": {
      "text/plain": [
       "'Hello Worl'"
      ]
     },
     "execution_count": 6,
     "metadata": {},
     "output_type": "execute_result"
    }
   ],
   "source": [
    "S[:-1]"
   ]
  },
  {
   "cell_type": "code",
   "execution_count": 7,
   "id": "656357fa",
   "metadata": {},
   "outputs": [
    {
     "data": {
      "text/plain": [
       "'dlroW olleH'"
      ]
     },
     "execution_count": 7,
     "metadata": {},
     "output_type": "execute_result"
    }
   ],
   "source": [
    "S[::-1]                  #To Reverse the string"
   ]
  },
  {
   "cell_type": "code",
   "execution_count": 8,
   "id": "bc907145",
   "metadata": {},
   "outputs": [
    {
     "data": {
      "text/plain": [
       "'drWolH'"
      ]
     },
     "execution_count": 8,
     "metadata": {},
     "output_type": "execute_result"
    }
   ],
   "source": [
    "S[::-2]"
   ]
  },
  {
   "cell_type": "code",
   "execution_count": 3,
   "id": "7436c35a",
   "metadata": {},
   "outputs": [
    {
     "data": {
      "text/plain": [
       "['Hello', 'Miss', 'Allu']"
      ]
     },
     "execution_count": 3,
     "metadata": {},
     "output_type": "execute_result"
    }
   ],
   "source": [
    "S=\"Hello Miss Allu\"\n",
    "S.split()"
   ]
  },
  {
   "cell_type": "code",
   "execution_count": 12,
   "id": "bb6f03c3",
   "metadata": {},
   "outputs": [
    {
     "data": {
      "text/plain": [
       "['Hello Miss ', '']"
      ]
     },
     "execution_count": 12,
     "metadata": {},
     "output_type": "execute_result"
    }
   ],
   "source": [
    "S.split(\"Allu\")"
   ]
  },
  {
   "cell_type": "code",
   "execution_count": 13,
   "id": "4e96de29",
   "metadata": {},
   "outputs": [
    {
     "data": {
      "text/plain": [
       "1"
      ]
     },
     "execution_count": 13,
     "metadata": {},
     "output_type": "execute_result"
    }
   ],
   "source": [
    "S.count(\"A\")"
   ]
  },
  {
   "cell_type": "code",
   "execution_count": 14,
   "id": "1d20ebf3",
   "metadata": {},
   "outputs": [
    {
     "data": {
      "text/plain": [
       "6"
      ]
     },
     "execution_count": 14,
     "metadata": {},
     "output_type": "execute_result"
    }
   ],
   "source": [
    "#Index\n",
    "S.find('M')"
   ]
  },
  {
   "cell_type": "code",
   "execution_count": 15,
   "id": "3eb79e89",
   "metadata": {},
   "outputs": [
    {
     "data": {
      "text/plain": [
       "False"
      ]
     },
     "execution_count": 15,
     "metadata": {},
     "output_type": "execute_result"
    }
   ],
   "source": [
    "#True or False\n",
    "S.isalpha()"
   ]
  },
  {
   "cell_type": "code",
   "execution_count": 16,
   "id": "e17d8302",
   "metadata": {},
   "outputs": [
    {
     "data": {
      "text/plain": [
       "('He', 'l', 'lo Miss Allu')"
      ]
     },
     "execution_count": 16,
     "metadata": {},
     "output_type": "execute_result"
    }
   ],
   "source": [
    "S.partition('l')"
   ]
  },
  {
   "cell_type": "code",
   "execution_count": 4,
   "id": "03672436",
   "metadata": {},
   "outputs": [
    {
     "data": {
      "text/plain": [
       "False"
      ]
     },
     "execution_count": 4,
     "metadata": {},
     "output_type": "execute_result"
    }
   ],
   "source": [
    "S.isupper()"
   ]
  },
  {
   "cell_type": "code",
   "execution_count": 18,
   "id": "655d2166",
   "metadata": {},
   "outputs": [
    {
     "name": "stdout",
     "output_type": "stream",
     "text": [
      "1\n",
      "9\n",
      "16\n",
      "25\n",
      "36\n"
     ]
    }
   ],
   "source": [
    "#List- Mutable\n",
    "\n",
    "\n",
    "lst=[1,3,4,5,6]\n",
    "for i in lst:\n",
    "    print(i**2)"
   ]
  },
  {
   "cell_type": "code",
   "execution_count": 19,
   "id": "7d95845f",
   "metadata": {},
   "outputs": [
    {
     "name": "stdout",
     "output_type": "stream",
     "text": [
      "[1]\n",
      "[1, 9]\n",
      "[1, 9, 16]\n",
      "[1, 9, 16, 25]\n",
      "[1, 9, 16, 25, 36]\n"
     ]
    }
   ],
   "source": [
    "lst=[1,3,4,5,6]\n",
    "lst1=[]\n",
    "for i in lst:\n",
    "    lst1.append(i**2)\n",
    "    print(lst1)"
   ]
  },
  {
   "cell_type": "code",
   "execution_count": 22,
   "id": "44ec777c",
   "metadata": {},
   "outputs": [
    {
     "name": "stdout",
     "output_type": "stream",
     "text": [
      "[2, 4, 6, 8, 10]\n"
     ]
    }
   ],
   "source": [
    "lst=[1,2,3,4,5,6,7,8,9,10]\n",
    "lst1=[i for i in lst if i%2==0]\n",
    "print(lst1)\n"
   ]
  },
  {
   "cell_type": "code",
   "execution_count": 23,
   "id": "6edfff7f",
   "metadata": {},
   "outputs": [
    {
     "name": "stdout",
     "output_type": "stream",
     "text": [
      "['ikkihC', 'uknaB', 'ittiK']\n"
     ]
    }
   ],
   "source": [
    "lst=[\"Chikki\",\"Banku\",\"Kitti\"]\n",
    "lst2=[i[::-1] for i in lst]\n",
    "print(lst2)"
   ]
  },
  {
   "cell_type": "code",
   "execution_count": 24,
   "id": "ae6eb512",
   "metadata": {},
   "outputs": [
    {
     "data": {
      "text/plain": [
       "6"
      ]
     },
     "execution_count": 24,
     "metadata": {},
     "output_type": "execute_result"
    }
   ],
   "source": [
    "#Tuples-Immutable\n",
    "\n",
    "\n",
    "t=(1,2,3,4,5,6,7,8,\"ayp\")\n",
    "t[5]\n"
   ]
  },
  {
   "cell_type": "code",
   "execution_count": 25,
   "id": "ffbdd787",
   "metadata": {},
   "outputs": [
    {
     "data": {
      "text/plain": [
       "(4, 5, 6, 7, 8, 'ayp')"
      ]
     },
     "execution_count": 25,
     "metadata": {},
     "output_type": "execute_result"
    }
   ],
   "source": [
    "t[3:]"
   ]
  },
  {
   "cell_type": "code",
   "execution_count": 26,
   "id": "1eed8c7f",
   "metadata": {},
   "outputs": [
    {
     "data": {
      "text/plain": [
       "(1, 2, 3, 4, 5, 6, 7, 8)"
      ]
     },
     "execution_count": 26,
     "metadata": {},
     "output_type": "execute_result"
    }
   ],
   "source": [
    "t[:-1]"
   ]
  },
  {
   "cell_type": "code",
   "execution_count": 27,
   "id": "3d9c8bec",
   "metadata": {},
   "outputs": [
    {
     "data": {
      "text/plain": [
       "tuple"
      ]
     },
     "execution_count": 27,
     "metadata": {},
     "output_type": "execute_result"
    }
   ],
   "source": [
    "#Convert list into tuple\n",
    "t=(1,2,3,4,5,6,7,8,\"ayp\")\n",
    "type(lst)\n",
    "t1=tuple([lst])\n",
    "type(t1)"
   ]
  },
  {
   "cell_type": "code",
   "execution_count": 28,
   "id": "81030d72",
   "metadata": {},
   "outputs": [
    {
     "data": {
      "text/plain": [
       "list"
      ]
     },
     "execution_count": 28,
     "metadata": {},
     "output_type": "execute_result"
    }
   ],
   "source": [
    "#Convert tuple into list\n",
    "t=(1,2,3,4,5,6,7,8,\"ayp\")\n",
    "type(lst)\n",
    "lst=list([t])\n",
    "type(lst)"
   ]
  },
  {
   "cell_type": "code",
   "execution_count": 29,
   "id": "d8649a94",
   "metadata": {},
   "outputs": [
    {
     "data": {
      "text/plain": [
       "[0, 1, 2, 3, 4, 5, 6, 7, 8]"
      ]
     },
     "execution_count": 29,
     "metadata": {},
     "output_type": "execute_result"
    }
   ],
   "source": [
    "l=list(range(0,10))\n",
    "l[:-1]  #-1 print last element"
   ]
  },
  {
   "cell_type": "code",
   "execution_count": 30,
   "id": "4ce75bc4",
   "metadata": {},
   "outputs": [
    {
     "data": {
      "text/plain": [
       "9"
      ]
     },
     "execution_count": 30,
     "metadata": {},
     "output_type": "execute_result"
    }
   ],
   "source": [
    "l=list(range(0,10))\n",
    "l[-1]  #-1 print last element"
   ]
  },
  {
   "cell_type": "code",
   "execution_count": 31,
   "id": "7796ccb9",
   "metadata": {},
   "outputs": [
    {
     "data": {
      "text/plain": [
       "['namA', 'samlA', 'nadiR', 'aryamA']"
      ]
     },
     "execution_count": 31,
     "metadata": {},
     "output_type": "execute_result"
    }
   ],
   "source": [
    "t=(\"Aman\",\"Almas\",\"Ridan\",\"Amayra\")\n",
    "[i[::-1] for i in t]"
   ]
  },
  {
   "cell_type": "code",
   "execution_count": 32,
   "id": "08c0764b",
   "metadata": {},
   "outputs": [
    {
     "name": "stdout",
     "output_type": "stream",
     "text": [
      "2\n"
     ]
    }
   ],
   "source": [
    "t=(2,6,3,4,7,6,8)\n",
    "print(t.count(6))"
   ]
  },
  {
   "cell_type": "code",
   "execution_count": 33,
   "id": "09edc23a",
   "metadata": {},
   "outputs": [
    {
     "name": "stdout",
     "output_type": "stream",
     "text": [
      "2\n",
      "7\n"
     ]
    }
   ],
   "source": [
    "print(t.index(3))\n",
    "print(len(t))"
   ]
  },
  {
   "cell_type": "code",
   "execution_count": 34,
   "id": "b956dcff",
   "metadata": {},
   "outputs": [
    {
     "data": {
      "text/plain": [
       "8"
      ]
     },
     "execution_count": 34,
     "metadata": {},
     "output_type": "execute_result"
    }
   ],
   "source": [
    "t[-1]"
   ]
  },
  {
   "cell_type": "code",
   "execution_count": 35,
   "id": "36427a9a",
   "metadata": {},
   "outputs": [
    {
     "data": {
      "text/plain": [
       "dict"
      ]
     },
     "execution_count": 35,
     "metadata": {},
     "output_type": "execute_result"
    }
   ],
   "source": [
    "#Dictionary.........No indexing\n",
    "d={1:\"Sajal\",2:\"Ahad\",3:\"Noor\"}\n",
    "type(d)"
   ]
  },
  {
   "cell_type": "code",
   "execution_count": 37,
   "id": "b374853f",
   "metadata": {},
   "outputs": [
    {
     "data": {
      "text/plain": [
       "dict_keys([1, 2, 3])"
      ]
     },
     "execution_count": 37,
     "metadata": {},
     "output_type": "execute_result"
    }
   ],
   "source": [
    "d.keys()"
   ]
  },
  {
   "cell_type": "code",
   "execution_count": 38,
   "id": "2023dc4b",
   "metadata": {},
   "outputs": [
    {
     "data": {
      "text/plain": [
       "'a'"
      ]
     },
     "execution_count": 38,
     "metadata": {},
     "output_type": "execute_result"
    }
   ],
   "source": [
    "#Prints second index's element from 2nd key\n",
    "d[2][2]"
   ]
  },
  {
   "cell_type": "code",
   "execution_count": 39,
   "id": "0d90f9aa",
   "metadata": {},
   "outputs": [
    {
     "data": {
      "text/plain": [
       "'a'"
      ]
     },
     "execution_count": 39,
     "metadata": {},
     "output_type": "execute_result"
    }
   ],
   "source": [
    "d[1][1]"
   ]
  },
  {
   "cell_type": "code",
   "execution_count": 40,
   "id": "4ccd3f0b",
   "metadata": {},
   "outputs": [
    {
     "data": {
      "text/plain": [
       "{0: 0, 1: 1, 2: 4, 3: 9, 4: 16, 5: 25, 6: 36, 7: 49, 8: 64, 9: 81}"
      ]
     },
     "execution_count": 40,
     "metadata": {},
     "output_type": "execute_result"
    }
   ],
   "source": [
    "#Making Directory\n",
    "{x:x**2 for x in range(10)}"
   ]
  },
  {
   "cell_type": "code",
   "execution_count": 42,
   "id": "77b89b98",
   "metadata": {},
   "outputs": [
    {
     "data": {
      "text/plain": [
       "set"
      ]
     },
     "execution_count": 42,
     "metadata": {},
     "output_type": "execute_result"
    }
   ],
   "source": [
    "#Set............No indexing\n",
    "s={1,2,3,4}\n",
    "type(s)"
   ]
  },
  {
   "cell_type": "code",
   "execution_count": 43,
   "id": "b78598c1",
   "metadata": {},
   "outputs": [],
   "source": [
    "#Functions\n",
    "def sum_even(lst):\n",
    "    sum1=0\n",
    "    sum2=0\n",
    "    for i in lst:\n",
    "        if i%2==0:\n",
    "            sum1=sum1+i\n",
    "        else:\n",
    "            sum2=sum2+i\n",
    "            print(sum1)\n",
    "            print(sum2)"
   ]
  },
  {
   "cell_type": "code",
   "execution_count": 44,
   "id": "418b786c",
   "metadata": {},
   "outputs": [],
   "source": [
    "def f1(l1,l2):\n",
    "    l3=list(range(0,6))\n",
    "    r=range(0,6)\n",
    "    for i in r:\n",
    "        l3[i]=l1[i]+l2[i]\n",
    "        print(l3)"
   ]
  },
  {
   "cell_type": "code",
   "execution_count": 45,
   "id": "cc2e65aa",
   "metadata": {},
   "outputs": [
    {
     "name": "stdout",
     "output_type": "stream",
     "text": [
      "[8, 1, 2, 3, 4, 5]\n",
      "[8, 10, 2, 3, 4, 5]\n",
      "[8, 10, 12, 3, 4, 5]\n",
      "[8, 10, 12, 14, 4, 5]\n",
      "[8, 10, 12, 14, 9, 5]\n",
      "[8, 10, 12, 14, 9, 11]\n"
     ]
    }
   ],
   "source": [
    "#Use a function\n",
    "l1=[2,3,4,5,6,7]\n",
    "l2=[6,7,8,9,3,4]\n",
    "f1(l1,l2)"
   ]
  },
  {
   "cell_type": "code",
   "execution_count": 48,
   "id": "10295e5c",
   "metadata": {},
   "outputs": [
    {
     "name": "stdout",
     "output_type": "stream",
     "text": [
      "1\n",
      "2\n",
      "3\n",
      "4\n"
     ]
    }
   ],
   "source": [
    "for i in [1,2,3,4]:\n",
    "         print(i)"
   ]
  },
  {
   "cell_type": "code",
   "execution_count": 49,
   "id": "58aa5096",
   "metadata": {},
   "outputs": [
    {
     "name": "stdout",
     "output_type": "stream",
     "text": [
      "I\n",
      "n\n",
      "a\n",
      "y\n",
      "a\n",
      "t\n"
     ]
    }
   ],
   "source": [
    "for i in 'Inayat':\n",
    "    print(i)"
   ]
  },
  {
   "cell_type": "code",
   "execution_count": 50,
   "id": "c890af09",
   "metadata": {},
   "outputs": [
    {
     "name": "stdout",
     "output_type": "stream",
     "text": [
      "1\n",
      "2\n",
      "3\n"
     ]
    }
   ],
   "source": [
    "for i in (1,2,3):\n",
    "    print(i)\n",
    "    "
   ]
  },
  {
   "cell_type": "code",
   "execution_count": 51,
   "id": "16c392b1",
   "metadata": {},
   "outputs": [
    {
     "data": {
      "text/plain": [
       "'inavijnaS'"
      ]
     },
     "execution_count": 51,
     "metadata": {},
     "output_type": "execute_result"
    }
   ],
   "source": [
    "#To Reverse a string\n",
    "s=\"Sanjivani\"\n",
    "s[::-1]"
   ]
  },
  {
   "cell_type": "code",
   "execution_count": 7,
   "id": "eef9feaf",
   "metadata": {},
   "outputs": [
    {
     "name": "stdout",
     "output_type": "stream",
     "text": [
      "*\n",
      "**\n",
      "***\n",
      "****\n",
      "*****\n",
      "*****\n",
      "****\n",
      "***\n",
      "**\n",
      "*\n"
     ]
    }
   ],
   "source": [
    "for i in range(1,6):\n",
    "   print(\"*\"*i)\n",
    "for i in range(5,0,-1):\n",
    "   print(\"*\"*i)"
   ]
  },
  {
   "cell_type": "code",
   "execution_count": null,
   "id": "2beccb0c",
   "metadata": {},
   "outputs": [],
   "source": []
  }
 ],
 "metadata": {
  "kernelspec": {
   "display_name": "Python 3 (ipykernel)",
   "language": "python",
   "name": "python3"
  },
  "language_info": {
   "codemirror_mode": {
    "name": "ipython",
    "version": 3
   },
   "file_extension": ".py",
   "mimetype": "text/x-python",
   "name": "python",
   "nbconvert_exporter": "python",
   "pygments_lexer": "ipython3",
   "version": "3.9.7"
  }
 },
 "nbformat": 4,
 "nbformat_minor": 5
}
