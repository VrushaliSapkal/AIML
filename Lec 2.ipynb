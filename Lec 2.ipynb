{
 "cells": [
  {
   "cell_type": "code",
   "execution_count": 1,
   "id": "55276069",
   "metadata": {},
   "outputs": [],
   "source": [
    "#18-02-2022"
   ]
  },
  {
   "cell_type": "code",
   "execution_count": 2,
   "id": "1bbfc141",
   "metadata": {},
   "outputs": [
    {
     "name": "stdout",
     "output_type": "stream",
     "text": [
      "list iteration\n",
      "Sanjivani\n",
      "COE\n",
      "Engg\n"
     ]
    }
   ],
   "source": [
    "#iterators\n",
    "print(\"list iteration\")\n",
    "l=[\"Sanjivani\",\"COE\",\"Engg\"]\n",
    "for i in l:               #iteration\n",
    "    print(i)\n",
    "    "
   ]
  },
  {
   "cell_type": "code",
   "execution_count": 3,
   "id": "4193d4a7",
   "metadata": {},
   "outputs": [
    {
     "name": "stdout",
     "output_type": "stream",
     "text": [
      "Tuple Iteration\n",
      "Sanji\n",
      "CoE\n",
      "Engg\n"
     ]
    }
   ],
   "source": [
    "print(\"Tuple Iteration\")\n",
    "t=(\"Sanji\",\"CoE\",\"Engg\")\n",
    "for i in t:\n",
    "    print(i)"
   ]
  },
  {
   "cell_type": "code",
   "execution_count": 8,
   "id": "54ce5670",
   "metadata": {},
   "outputs": [
    {
     "name": "stdout",
     "output_type": "stream",
     "text": [
      "string Iteration\n",
      "S\n",
      "a\n",
      "n\n",
      "j\n",
      "i\n",
      "v\n",
      "a\n",
      "n\n",
      "i\n"
     ]
    }
   ],
   "source": [
    "print(\"string Iteration\")\n",
    "s=(\"Sanjivani\")\n",
    "for i in s:\n",
    "    print(i)"
   ]
  },
  {
   "cell_type": "code",
   "execution_count": 12,
   "id": "a14c4f00",
   "metadata": {},
   "outputs": [
    {
     "name": "stdout",
     "output_type": "stream",
     "text": [
      "Dictionary Iteration\n",
      "1 Sanji\n",
      "2 COE\n",
      "3 Engg\n"
     ]
    }
   ],
   "source": [
    "print(\"Dictionary Iteration\")\n",
    "d={1:\"Sanji\",2:\"COE\",3:\"Engg\"}\n",
    "for i in d:\n",
    "    print(i,d[i])"
   ]
  },
  {
   "cell_type": "code",
   "execution_count": 15,
   "id": "a38f7901",
   "metadata": {},
   "outputs": [
    {
     "name": "stdout",
     "output_type": "stream",
     "text": [
      "apple\n",
      "Banana\n",
      "Cherry\n"
     ]
    }
   ],
   "source": [
    "#We can also use for loop for this\n",
    "mytuple=(\"apple\",\"Banana\",\"Cherry\")\n",
    "myiter=iter(mytuple)        #iter..keyword\n",
    "print(next(myiter))\n",
    "print(next(myiter))\n",
    "print(next(myiter))"
   ]
  },
  {
   "cell_type": "code",
   "execution_count": 17,
   "id": "c4838600",
   "metadata": {},
   "outputs": [
    {
     "name": "stdout",
     "output_type": "stream",
     "text": [
      "a\n",
      "p\n",
      "p\n",
      "l\n",
      "e\n"
     ]
    }
   ],
   "source": [
    "mystring=(\"apple\")\n",
    "myiter=iter(mystring)       \n",
    "print(next(myiter))\n",
    "print(next(myiter))\n",
    "print(next(myiter))\n",
    "print(next(myiter))\n",
    "print(next(myiter))"
   ]
  },
  {
   "cell_type": "code",
   "execution_count": 24,
   "id": "3096332c",
   "metadata": {},
   "outputs": [
    {
     "data": {
      "text/plain": [
       "1"
      ]
     },
     "execution_count": 24,
     "metadata": {},
     "output_type": "execute_result"
    }
   ],
   "source": [
    "a=iter([1,2,3,4,5])\n",
    "a\n",
    "next(a)\n"
   ]
  },
  {
   "cell_type": "code",
   "execution_count": 20,
   "id": "638aa530",
   "metadata": {},
   "outputs": [
    {
     "name": "stdout",
     "output_type": "stream",
     "text": [
      "2\n",
      "3\n",
      "4\n",
      "5\n"
     ]
    }
   ],
   "source": [
    "for i in a:\n",
    "    print(i)"
   ]
  },
  {
   "cell_type": "code",
   "execution_count": 25,
   "id": "4d5d3d63",
   "metadata": {},
   "outputs": [],
   "source": [
    "#Generator"
   ]
  },
  {
   "cell_type": "code",
   "execution_count": 35,
   "id": "19b7f458",
   "metadata": {},
   "outputs": [],
   "source": [
    "def gencubes(n):\n",
    "    for num in range(n):\n",
    "        yield num**3    #yield.............producing answers.....it prints values more than one"
   ]
  },
  {
   "cell_type": "code",
   "execution_count": 38,
   "id": "fe50a94a",
   "metadata": {},
   "outputs": [
    {
     "data": {
      "text/plain": [
       "<generator object gencubes at 0x000001A0AC8F5660>"
      ]
     },
     "execution_count": 38,
     "metadata": {},
     "output_type": "execute_result"
    }
   ],
   "source": [
    "output=gencubes(5)\n",
    "output"
   ]
  },
  {
   "cell_type": "code",
   "execution_count": 39,
   "id": "6ef11562",
   "metadata": {},
   "outputs": [
    {
     "name": "stdout",
     "output_type": "stream",
     "text": [
      "0\n",
      "1\n",
      "8\n",
      "27\n",
      "64\n"
     ]
    }
   ],
   "source": [
    "for i in output:\n",
    "    print(i)"
   ]
  },
  {
   "cell_type": "code",
   "execution_count": 26,
   "id": "440fcf99",
   "metadata": {},
   "outputs": [],
   "source": [
    "def square_of_sequence(x):\n",
    "    for i in range(x):\n",
    "        yield i*i\n",
    "        gen=square_of_sequence(s)\n",
    "        while true:\n",
    "            try:\n",
    "                print(\"Receiver on next();\",next(gen))\n",
    "            except stop_iteration:\n",
    "                break"
   ]
  },
  {
   "cell_type": "code",
   "execution_count": 27,
   "id": "c4f93dde",
   "metadata": {},
   "outputs": [],
   "source": [
    "def getlib(n):\n",
    "    a=1,\n",
    "    b=1\n",
    "    for i in range (n):\n",
    "        yield a\n",
    "        a,b=b,a+b\n",
    "        a= getlib(10)\n",
    "        a\n",
    "        for i in a:\n",
    "            print(i)\n",
    "        \n",
    "            "
   ]
  },
  {
   "cell_type": "code",
   "execution_count": 28,
   "id": "846315e2",
   "metadata": {},
   "outputs": [],
   "source": [
    "#Map function\n",
    "\n",
    "\n",
    "        "
   ]
  },
  {
   "cell_type": "code",
   "execution_count": 29,
   "id": "6827f474",
   "metadata": {},
   "outputs": [],
   "source": [
    "def square_num(x):\n",
    "    return x*x \n"
   ]
  },
  {
   "cell_type": "code",
   "execution_count": 30,
   "id": "e36327a4",
   "metadata": {},
   "outputs": [
    {
     "name": "stdout",
     "output_type": "stream",
     "text": [
      "1\n",
      "4\n",
      "9\n",
      "16\n",
      "25\n"
     ]
    }
   ],
   "source": [
    "square_num(5)\n",
    "a=map(square_num,[1,2,3,4,5])\n",
    "a           #map\n",
    "for i in a:\n",
    "    print(i)"
   ]
  },
  {
   "cell_type": "code",
   "execution_count": 31,
   "id": "3f3e4d0b",
   "metadata": {},
   "outputs": [
    {
     "data": {
      "text/plain": [
       "[1, 4, 9, 16, 25]"
      ]
     },
     "execution_count": 31,
     "metadata": {},
     "output_type": "execute_result"
    }
   ],
   "source": [
    "a=list(map(square_num,[1,2,3,4,5]))\n",
    "a           #map\n"
   ]
  },
  {
   "cell_type": "code",
   "execution_count": 32,
   "id": "003e7db1",
   "metadata": {},
   "outputs": [],
   "source": [
    "def myfunc(a,b):\n",
    "    return a+b   #concate"
   ]
  },
  {
   "cell_type": "code",
   "execution_count": 33,
   "id": "846b445e",
   "metadata": {},
   "outputs": [
    {
     "name": "stdout",
     "output_type": "stream",
     "text": [
      "<map object at 0x0000024632CBED60>\n"
     ]
    }
   ],
   "source": [
    "x=map(myfunc,('appple','banana','cherry'),('orange','lemon','chiku'))\n",
    "print(x)"
   ]
  },
  {
   "cell_type": "code",
   "execution_count": 34,
   "id": "004900fc",
   "metadata": {},
   "outputs": [
    {
     "name": "stdout",
     "output_type": "stream",
     "text": [
      "['apppleorange', 'bananalemon', 'cherrychiku']\n"
     ]
    }
   ],
   "source": [
    "print(list(x))"
   ]
  },
  {
   "cell_type": "code",
   "execution_count": 35,
   "id": "4aec5726",
   "metadata": {},
   "outputs": [],
   "source": [
    "def add(n):\n",
    "    return n+n\n"
   ]
  },
  {
   "cell_type": "code",
   "execution_count": 36,
   "id": "f7afb4b4",
   "metadata": {},
   "outputs": [
    {
     "name": "stdout",
     "output_type": "stream",
     "text": [
      "<map object at 0x0000024632CCD5E0>\n"
     ]
    }
   ],
   "source": [
    "number=(1,2,3,4,5)\n",
    "result=map(add,number)\n",
    "print(result)"
   ]
  },
  {
   "cell_type": "code",
   "execution_count": 21,
   "id": "429dd9e4",
   "metadata": {},
   "outputs": [
    {
     "name": "stdout",
     "output_type": "stream",
     "text": [
      "[2, 4, 6, 8, 10]\n"
     ]
    }
   ],
   "source": [
    "print(list(result))"
   ]
  },
  {
   "cell_type": "code",
   "execution_count": 22,
   "id": "c01ef92b",
   "metadata": {},
   "outputs": [],
   "source": [
    "#Lambda Function"
   ]
  },
  {
   "cell_type": "code",
   "execution_count": 23,
   "id": "4d7a84fb",
   "metadata": {},
   "outputs": [
    {
     "name": "stdout",
     "output_type": "stream",
     "text": [
      "15\n"
     ]
    }
   ],
   "source": [
    "x=lambda a:a+10\n",
    "print(x(5))\n",
    "\n"
   ]
  },
  {
   "cell_type": "code",
   "execution_count": 24,
   "id": "7798d3bd",
   "metadata": {},
   "outputs": [
    {
     "name": "stdout",
     "output_type": "stream",
     "text": [
      "30\n"
     ]
    }
   ],
   "source": [
    "x=lambda a,b:a*b\n",
    "print(x(5,6))"
   ]
  },
  {
   "cell_type": "code",
   "execution_count": 25,
   "id": "f1769aff",
   "metadata": {},
   "outputs": [
    {
     "name": "stdout",
     "output_type": "stream",
     "text": [
      "13\n"
     ]
    }
   ],
   "source": [
    "x=lambda a,b,c:a+b+c\n",
    "print(x(5,6,2))"
   ]
  },
  {
   "cell_type": "code",
   "execution_count": 26,
   "id": "08a6ea3f",
   "metadata": {},
   "outputs": [
    {
     "data": {
      "text/plain": [
       "[1, 4, 9, 16, 25]"
      ]
     },
     "execution_count": 26,
     "metadata": {},
     "output_type": "execute_result"
    }
   ],
   "source": [
    "list(map(lambda x:x*x, [1,2,3,4,5]))\n"
   ]
  },
  {
   "cell_type": "code",
   "execution_count": 31,
   "id": "1d2d3e26",
   "metadata": {},
   "outputs": [
    {
     "data": {
      "text/plain": [
       "(13, -1)"
      ]
     },
     "execution_count": 31,
     "metadata": {},
     "output_type": "execute_result"
    }
   ],
   "source": [
    "a=lambda x,y:(x+y,x-y)\n",
    "a(6,7)"
   ]
  },
  {
   "cell_type": "code",
   "execution_count": 32,
   "id": "2adef5d8",
   "metadata": {},
   "outputs": [],
   "source": [
    "#Reduced Function"
   ]
  },
  {
   "cell_type": "code",
   "execution_count": 8,
   "id": "cc3d9c61",
   "metadata": {},
   "outputs": [
    {
     "data": {
      "text/plain": [
       "14"
      ]
     },
     "execution_count": 8,
     "metadata": {},
     "output_type": "execute_result"
    }
   ],
   "source": [
    "import functools as f\n",
    "add=lambda x,y:x+y\n",
    "add(2,3)\n",
    "l=[2,3,4,5]\n",
    "f.reduce(add,l)"
   ]
  },
  {
   "cell_type": "code",
   "execution_count": 44,
   "id": "a82a30ce",
   "metadata": {},
   "outputs": [
    {
     "ename": "IndentationError",
     "evalue": "expected an indented block (Temp/ipykernel_8176/3173765335.py, line 3)",
     "output_type": "error",
     "traceback": [
      "\u001b[1;36m  File \u001b[1;32m\"C:\\Users\\user\\AppData\\Local\\Temp/ipykernel_8176/3173765335.py\"\u001b[1;36m, line \u001b[1;32m3\u001b[0m\n\u001b[1;33m    else:\u001b[0m\n\u001b[1;37m    ^\u001b[0m\n\u001b[1;31mIndentationError\u001b[0m\u001b[1;31m:\u001b[0m expected an indented block\n"
     ]
    }
   ],
   "source": [
    "max_find=lambda a,b:a \n",
    "if (a>b):\n",
    "else:\n",
    "    l=[2,3,4,56,76,3]\n",
    "    max_find(10,12)\n",
    "    f.reduce(max_find,l)"
   ]
  },
  {
   "cell_type": "code",
   "execution_count": null,
   "id": "d33cf280",
   "metadata": {},
   "outputs": [],
   "source": []
  },
  {
   "cell_type": "code",
   "execution_count": null,
   "id": "b4040ec9",
   "metadata": {},
   "outputs": [],
   "source": []
  }
 ],
 "metadata": {
  "kernelspec": {
   "display_name": "Python 3 (ipykernel)",
   "language": "python",
   "name": "python3"
  },
  "language_info": {
   "codemirror_mode": {
    "name": "ipython",
    "version": 3
   },
   "file_extension": ".py",
   "mimetype": "text/x-python",
   "name": "python",
   "nbconvert_exporter": "python",
   "pygments_lexer": "ipython3",
   "version": "3.9.7"
  }
 },
 "nbformat": 4,
 "nbformat_minor": 5
}
