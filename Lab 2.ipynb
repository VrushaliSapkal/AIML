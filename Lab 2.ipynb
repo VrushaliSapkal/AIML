{
 "cells": [
  {
   "cell_type": "code",
   "execution_count": 1,
   "id": "61a37f30",
   "metadata": {},
   "outputs": [],
   "source": [
    "#Suppose, a fruit-seller sold 20 mangoes and 10 oranges in one day for a total of $350\n",
    "#The next day he sold 17 mangoes and 22 oranges for $500. If the prices of the fruits remained unchanged\n",
    "#on both the days, what was the price of one mango and one orange? Solve the given problem\n",
    "#using Numpy library in python."
   ]
  },
  {
   "cell_type": "code",
   "execution_count": 2,
   "id": "cad2a102",
   "metadata": {},
   "outputs": [],
   "source": [
    "import numpy as np"
   ]
  },
  {
   "cell_type": "code",
   "execution_count": 22,
   "id": "bb8e20a7",
   "metadata": {},
   "outputs": [],
   "source": [
    "x=np.array([[20,10],[17,22]])\n",
    "y=np.array([350,500])"
   ]
  },
  {
   "cell_type": "code",
   "execution_count": 23,
   "id": "2d8a690a",
   "metadata": {},
   "outputs": [],
   "source": [
    "a=np.linalg.solve(x,y)"
   ]
  },
  {
   "cell_type": "code",
   "execution_count": 24,
   "id": "c0ab7d9f",
   "metadata": {},
   "outputs": [
    {
     "name": "stdout",
     "output_type": "stream",
     "text": [
      "[10. 15.]\n"
     ]
    }
   ],
   "source": [
    "print(a)"
   ]
  },
  {
   "cell_type": "code",
   "execution_count": 27,
   "id": "046ffc4f",
   "metadata": {},
   "outputs": [
    {
     "name": "stdout",
     "output_type": "stream",
     "text": [
      "[10. 15.]\n"
     ]
    }
   ],
   "source": [
    "#--------OR------------\n",
    "\n",
    "import numpy as np\n",
    "x=np.array([[20,10],[17,22]])\n",
    "y=np.array([350,500])\n",
    "a=np.linalg.inv(x).dot(y)\n",
    "print(a)"
   ]
  },
  {
   "cell_type": "code",
   "execution_count": null,
   "id": "1e78c834",
   "metadata": {},
   "outputs": [],
   "source": []
  },
  {
   "cell_type": "code",
   "execution_count": null,
   "id": "def10e8e",
   "metadata": {},
   "outputs": [],
   "source": []
  },
  {
   "cell_type": "code",
   "execution_count": null,
   "id": "8477570e",
   "metadata": {},
   "outputs": [],
   "source": []
  }
 ],
 "metadata": {
  "kernelspec": {
   "display_name": "Python 3 (ipykernel)",
   "language": "python",
   "name": "python3"
  },
  "language_info": {
   "codemirror_mode": {
    "name": "ipython",
    "version": 3
   },
   "file_extension": ".py",
   "mimetype": "text/x-python",
   "name": "python",
   "nbconvert_exporter": "python",
   "pygments_lexer": "ipython3",
   "version": "3.9.7"
  }
 },
 "nbformat": 4,
 "nbformat_minor": 5
}
