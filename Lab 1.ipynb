{
 "cells": [
  {
   "cell_type": "code",
   "execution_count": 1,
   "id": "002f3603",
   "metadata": {},
   "outputs": [],
   "source": [
    "#Numpy prg to compute cross product of 2 given vectors"
   ]
  },
  {
   "cell_type": "code",
   "execution_count": 2,
   "id": "ce67eeb0",
   "metadata": {},
   "outputs": [
    {
     "name": "stdout",
     "output_type": "stream",
     "text": [
      "original matrix:\n",
      "[[1, 2]]\n",
      "[[4, 3]]\n",
      "cross product of the said two vectors(p, q):\n",
      "[-5]\n",
      "cross product of the said two vectors(q, p):\n",
      "[5]\n"
     ]
    }
   ],
   "source": [
    "import numpy as np\n",
    "p = [[1,2]]\n",
    "q = [[4,3]]\n",
    "print(\"original matrix:\")\n",
    "print(p)\n",
    "print(q)\n",
    "result1 = np.cross(p, q)\n",
    "result2 = np.cross(q, p)\n",
    "print(\"cross product of the said two vectors(p, q):\")\n",
    "print(result1)\n",
    "print(\"cross product of the said two vectors(q, p):\")\n",
    "print(result2)"
   ]
  },
  {
   "cell_type": "code",
   "execution_count": 3,
   "id": "e0650f10",
   "metadata": {},
   "outputs": [
    {
     "name": "stdout",
     "output_type": "stream",
     "text": [
      "original matrix:\n",
      "[[2, 3, 3]]\n",
      "[[2, 4, 5]]\n",
      "cross product of the said two vectors(p, q):\n",
      "[[ 3 -4  2]]\n",
      "cross product of the said two vectors(q, p):\n",
      "[[-3  4 -2]]\n"
     ]
    }
   ],
   "source": [
    "import numpy as np\n",
    "p = [[2,3,3]]\n",
    "q = [[2,4,5]]\n",
    "print(\"original matrix:\")\n",
    "print(p)\n",
    "print(q)\n",
    "result1 = np.cross(p, q)\n",
    "result2 = np.cross(q, p)\n",
    "print(\"cross product of the said two vectors(p, q):\")\n",
    "print(result1)\n",
    "print(\"cross product of the said two vectors(q, p):\")\n",
    "print(result2)"
   ]
  },
  {
   "cell_type": "code",
   "execution_count": 4,
   "id": "2bc6cd3d",
   "metadata": {},
   "outputs": [],
   "source": [
    "def cross(a, b):\n",
    "    c = [a[1]*b[2] - a[2]*b[1],\n",
    "         a[2]*b[0] - a[0]*b[2],\n",
    "         a[0]*b[1] - a[1]*b[0]]\n",
    "\n",
    "    return c\n",
    "    "
   ]
  },
  {
   "cell_type": "code",
   "execution_count": 5,
   "id": "251819b2",
   "metadata": {},
   "outputs": [
    {
     "data": {
      "text/plain": [
       "[3, -4, 2]"
      ]
     },
     "execution_count": 5,
     "metadata": {},
     "output_type": "execute_result"
    }
   ],
   "source": [
    "cross([2,3,3],[2,4,5])"
   ]
  },
  {
   "cell_type": "code",
   "execution_count": 6,
   "id": "31ec6207",
   "metadata": {},
   "outputs": [],
   "source": [
    "import numpy as np\n",
    "def fun1(x,y):\n",
    "    result = np.cross(x, y)\n",
    "    print(result)"
   ]
  },
  {
   "cell_type": "code",
   "execution_count": 7,
   "id": "81828df7",
   "metadata": {},
   "outputs": [
    {
     "name": "stdout",
     "output_type": "stream",
     "text": [
      "-2\n"
     ]
    }
   ],
   "source": [
    "fun1([1, 2],[3, 4])"
   ]
  },
  {
   "cell_type": "code",
   "execution_count": null,
   "id": "4c7bc334",
   "metadata": {},
   "outputs": [],
   "source": []
  }
 ],
 "metadata": {
  "kernelspec": {
   "display_name": "Python 3 (ipykernel)",
   "language": "python",
   "name": "python3"
  },
  "language_info": {
   "codemirror_mode": {
    "name": "ipython",
    "version": 3
   },
   "file_extension": ".py",
   "mimetype": "text/x-python",
   "name": "python",
   "nbconvert_exporter": "python",
   "pygments_lexer": "ipython3",
   "version": "3.9.7"
  }
 },
 "nbformat": 4,
 "nbformat_minor": 5
}
