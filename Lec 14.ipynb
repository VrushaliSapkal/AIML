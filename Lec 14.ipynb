{
 "cells": [
  {
   "cell_type": "code",
   "execution_count": 1,
   "id": "35396682",
   "metadata": {},
   "outputs": [],
   "source": [
    "#23-03-22"
   ]
  },
  {
   "cell_type": "code",
   "execution_count": 2,
   "id": "f8cbbf71",
   "metadata": {},
   "outputs": [],
   "source": [
    "#polynomial regression"
   ]
  },
  {
   "cell_type": "code",
   "execution_count": 19,
   "id": "6fbd0655",
   "metadata": {},
   "outputs": [],
   "source": [
    "from sklearn.datasets import make_regression"
   ]
  },
  {
   "cell_type": "code",
   "execution_count": 20,
   "id": "0a774441",
   "metadata": {},
   "outputs": [],
   "source": [
    "X,y=make_regression(n_samples=300,n_features=1,noise=8,bias=2)#make_regression-it is used to generate data set for regression problem\n",
    "y2=y**2"
   ]
  },
  {
   "cell_type": "code",
   "execution_count": 21,
   "id": "7b07bb15",
   "metadata": {},
   "outputs": [],
   "source": [
    "import matplotlib.pyplot as plt"
   ]
  },
  {
   "cell_type": "code",
   "execution_count": 22,
   "id": "7075e4e0",
   "metadata": {},
   "outputs": [
    {
     "data": {
      "text/plain": [
       "<matplotlib.collections.PathCollection at 0x20794dd6b80>"
      ]
     },
     "execution_count": 22,
     "metadata": {},
     "output_type": "execute_result"
    },
    {
     "data": {
      "image/png": "[encoded data removed]",
      "text/plain": [
       "<Figure size 432x288 with 1 Axes>"
      ]
     },
     "metadata": {
      "needs_background": "light"
     },
     "output_type": "display_data"
    }
   ],
   "source": [
    "plt.scatter(X,y2)"
   ]
  },
  {
   "cell_type": "code",
   "execution_count": 23,
   "id": "4266a5b5",
   "metadata": {},
   "outputs": [],
   "source": [
    "from sklearn.linear_model import LinearRegression\n",
    "model=LinearRegression()\n"
   ]
  },
  {
   "cell_type": "code",
   "execution_count": 24,
   "id": "0e82bed4",
   "metadata": {},
   "outputs": [],
   "source": [
    "from sklearn.model_selection import train_test_split\n",
    "X_train,X_test,y_train,y_test=train_test_split(X,y2,test_size=0.33,random_state=42)"
   ]
  },
  {
   "cell_type": "code",
   "execution_count": 25,
   "id": "810064c6",
   "metadata": {},
   "outputs": [
    {
     "data": {
      "text/plain": [
       "LinearRegression()"
      ]
     },
     "execution_count": 25,
     "metadata": {},
     "output_type": "execute_result"
    }
   ],
   "source": [
    "model.fit(X_train,y_train)"
   ]
  },
  {
   "cell_type": "code",
   "execution_count": 26,
   "id": "d0246c75",
   "metadata": {},
   "outputs": [],
   "source": [
    "y_pred=model.predict(X_test)"
   ]
  },
  {
   "cell_type": "code",
   "execution_count": 27,
   "id": "0042871a",
   "metadata": {},
   "outputs": [
    {
     "name": "stdout",
     "output_type": "stream",
     "text": [
      "MSE 6109.625861720498\n",
      "R2_score :  -0.0005763340514040038\n"
     ]
    }
   ],
   "source": [
    "from sklearn.metrics import mean_squared_error,mean_absolute_error,r2_score\n",
    "print (\"MSE\",mean_squared_error(y_test,y_pred))\n",
    "print (\"R2_score : \" ,r2_score(y_test,y_pred))"
   ]
  },
  {
   "cell_type": "code",
   "execution_count": 28,
   "id": "d136db46",
   "metadata": {},
   "outputs": [
    {
     "data": {
      "text/plain": [
       "<matplotlib.collections.PathCollection at 0x20794e47a00>"
      ]
     },
     "execution_count": 28,
     "metadata": {},
     "output_type": "execute_result"
    },
    {
     "data": {
      "image/png": "[encoded data removed]",
      "text/plain": [
       "<Figure size 432x288 with 1 Axes>"
      ]
     },
     "metadata": {
      "needs_background": "light"
     },
     "output_type": "display_data"
    }
   ],
   "source": [
    "plt.plot(X,model.predict(X))\n",
    "plt.scatter(X,y2)"
   ]
  },
  {
   "cell_type": "code",
   "execution_count": 29,
   "id": "691e37cc",
   "metadata": {},
   "outputs": [],
   "source": [
    "from sklearn.preprocessing import PolynomialFeatures"
   ]
  },
  {
   "cell_type": "code",
   "execution_count": 30,
   "id": "2b963380",
   "metadata": {},
   "outputs": [],
   "source": [
    "poly_feat=PolynomialFeatures(degree=3)"
   ]
  },
  {
   "cell_type": "code",
   "execution_count": 31,
   "id": "3c58caeb",
   "metadata": {},
   "outputs": [],
   "source": [
    "X_poly= poly_feat.fit_transform(X)#standarzation(mean=0 sd=1)"
   ]
  },
  {
   "cell_type": "code",
   "execution_count": 32,
   "id": "15e9574c",
   "metadata": {},
   "outputs": [],
   "source": [
    "poly_model=LinearRegression()"
   ]
  },
  {
   "cell_type": "code",
   "execution_count": 38,
   "id": "2f61b54e",
   "metadata": {},
   "outputs": [
    {
     "data": {
      "text/plain": [
       "LinearRegression()"
      ]
     },
     "execution_count": 38,
     "metadata": {},
     "output_type": "execute_result"
    }
   ],
   "source": [
    "poly_model.fit(X_poly,y2)"
   ]
  },
  {
   "cell_type": "code",
   "execution_count": 39,
   "id": "08670602",
   "metadata": {},
   "outputs": [],
   "source": [
    "pred_poly=poly_model.predict(X_poly)"
   ]
  },
  {
   "cell_type": "code",
   "execution_count": 40,
   "id": "9d6aa420",
   "metadata": {},
   "outputs": [
    {
     "name": "stdout",
     "output_type": "stream",
     "text": [
      "MSE 7540.775571579397\n"
     ]
    }
   ],
   "source": [
    "from sklearn.metrics import mean_squared_error,mean_absolute_error,r2_score\n",
    "print (\"MSE\",mean_squared_error(y2,pred_poly))"
   ]
  },
  {
   "cell_type": "code",
   "execution_count": 41,
   "id": "0544c93f",
   "metadata": {},
   "outputs": [
    {
     "name": "stdout",
     "output_type": "stream",
     "text": [
      "MSE :  62.589655410823056\n"
     ]
    }
   ],
   "source": [
    "print(\"MSE : \",mean_absolute_error(y2,pred_poly))"
   ]
  },
  {
   "cell_type": "code",
   "execution_count": 42,
   "id": "3eba9f0e",
   "metadata": {},
   "outputs": [
    {
     "name": "stdout",
     "output_type": "stream",
     "text": [
      "R2_score :  0.003414390532199829\n"
     ]
    }
   ],
   "source": [
    "print (\"R2_score : \" ,r2_score(y2,pred_poly))"
   ]
  },
  {
   "cell_type": "code",
   "execution_count": 43,
   "id": "bcb53be5",
   "metadata": {},
   "outputs": [
    {
     "data": {
      "text/plain": [
       "<matplotlib.collections.PathCollection at 0x20794eb8d30>"
      ]
     },
     "execution_count": 43,
     "metadata": {},
     "output_type": "execute_result"
    },
    {
     "data": {
      "image/png": "[encoded data removed]",
      "text/plain": [
       "<Figure size 432x288 with 1 Axes>"
      ]
     },
     "metadata": {
      "needs_background": "light"
     },
     "output_type": "display_data"
    }
   ],
   "source": [
    "newX,newY=zip(*sorted(zip(X,pred_poly)))\n",
    "plt.plot(newX,newY)\n",
    "plt.scatter(X,y2)\n"
   ]
  },
  {
   "cell_type": "code",
   "execution_count": null,
   "id": "c6d98267",
   "metadata": {},
   "outputs": [],
   "source": []
  }
 ],
 "metadata": {
  "kernelspec": {
   "display_name": "Python 3 (ipykernel)",
   "language": "python",
   "name": "python3"
  },
  "language_info": {
   "codemirror_mode": {
    "name": "ipython",
    "version": 3
   },
   "file_extension": ".py",
   "mimetype": "text/x-python",
   "name": "python",
   "nbconvert_exporter": "python",
   "pygments_lexer": "ipython3",
   "version": "3.9.7"
  }
 },
 "nbformat": 4,
 "nbformat_minor": 5
}
