{
 "cells": [
  {
   "cell_type": "code",
   "execution_count": 1,
   "id": "216880e6",
   "metadata": {},
   "outputs": [],
   "source": [
    "#29/04/2022"
   ]
  },
  {
   "cell_type": "code",
   "execution_count": 1,
   "id": "e697090b",
   "metadata": {},
   "outputs": [],
   "source": [
    "from tkinter import *\n",
    "root=Tk()\n",
    "mylabel=Label(root,text=\"Hi\")\n",
    "mylabel.pack() #it will fit inself on container\n",
    "root.mainloop()"
   ]
  },
  {
   "cell_type": "code",
   "execution_count": 2,
   "id": "3c434b34",
   "metadata": {},
   "outputs": [],
   "source": [
    "#root....container name"
   ]
  },
  {
   "cell_type": "code",
   "execution_count": 3,
   "id": "ea0b4f7c",
   "metadata": {},
   "outputs": [],
   "source": [
    "from tkinter import *\n",
    "root=Tk()\n",
    "mylabel1=Label(root,text=\"Hi\")\n",
    "mylabel2=Label(root,text=\"Hello\")\n",
    "mylabel1.grid(row=0, column=0)\n",
    "mylabel2.grid(row=1, column=0)\n",
    "root.mainloop()\n"
   ]
  },
  {
   "cell_type": "code",
   "execution_count": 4,
   "id": "fa74dcd3",
   "metadata": {},
   "outputs": [],
   "source": [
    "from tkinter import *\n",
    "root=Tk()\n",
    "myButton=Button(root,text=\"Click Me\", padx=50, pady=50)\n",
    "myButton.pack()\n",
    "root.mainloop()"
   ]
  },
  {
   "cell_type": "code",
   "execution_count": 5,
   "id": "cea088a1",
   "metadata": {},
   "outputs": [],
   "source": [
    "from tkinter import *\n",
    "root=Tk()\n",
    "def myclick():\n",
    "    mylabel=Label(root,text=\"SCOE\")\n",
    "    mylabel.pack()\n",
    "myButton=Button(root,text=\"Click Me\", padx=50, pady=50, command=myclick, bg=\"red\",fg=\"blue\")\n",
    "myButton.pack()\n",
    "root.mainloop()\n"
   ]
  },
  {
   "cell_type": "code",
   "execution_count": 6,
   "id": "dbd1f6da",
   "metadata": {},
   "outputs": [],
   "source": [
    "from tkinter import *\n",
    "root=Tk()\n",
    "e=Entry(root,width=50,fg=\"red\",bg=\"yellow\",borderwidth=5 )\n",
    "e.pack()\n",
    "root.mainloop()"
   ]
  },
  {
   "cell_type": "code",
   "execution_count": 7,
   "id": "effd0c57",
   "metadata": {},
   "outputs": [],
   "source": [
    "from tkinter import *\n",
    "root=Tk()\n",
    "def myclick():\n",
    "    newlabel=Label(root,text=\"Hello\"+e.get())\n",
    "    newlabel.pack()\n",
    "e=Entry(root,width=50,fg=\"pink\",bg=\"blue\",borderwidth=5 )\n",
    "myButton=Button(root,text=\"Click Me\", padx=50, pady=50, command=myclick, bg=\"red\",fg=\"blue\")\n",
    "e.pack()\n",
    "myButton.pack()\n",
    "root.mainloop()\n",
    "\n"
   ]
  },
  {
   "cell_type": "code",
   "execution_count": 9,
   "id": "7ec58f5e",
   "metadata": {},
   "outputs": [],
   "source": [
    "from tkinter import *\n",
    "root=Tk()\n",
    "root.title(\"Click me and stop App\")\n",
    "button=Button(root,text=\"Click Me\", padx=50, pady=50, command=root.destroy, bg=\"red\",fg=\"blue\")\n",
    "button.pack()\n",
    "root.mainloop()"
   ]
  },
  {
   "cell_type": "code",
   "execution_count": 10,
   "id": "9baa9f1a",
   "metadata": {},
   "outputs": [],
   "source": [
    "from tkinter import *\n",
    "root=Tk()\n",
    "Lb=Listbox(root)\n",
    "Lb.insert(1,'Python')\n",
    "Lb.insert(2,'C++')\n",
    "Lb.pack()\n",
    "root.mainloop()"
   ]
  },
  {
   "cell_type": "code",
   "execution_count": 11,
   "id": "3a5cbb76",
   "metadata": {},
   "outputs": [],
   "source": [
    "from tkinter import *\n",
    "root=Tk()\n",
    "T=Text(root,width=30, height=2)\n",
    "T.pack()\n",
    "T.insert(END,\"Sanjivani \\nCOE \\n\")\n",
    "root.mainloop()"
   ]
  },
  {
   "cell_type": "code",
   "execution_count": 12,
   "id": "c35ab8fe",
   "metadata": {},
   "outputs": [],
   "source": [
    "from tkinter import *\n",
    "root=Tk()\n",
    "frame=Frame(root)\n",
    "frame.pack()\n",
    "button=Button(frame,text=\"Click me!\", bg=\"red\")\n",
    "button.pack(side=LEFT)\n",
    "root.mainloop()\n"
   ]
  },
  {
   "cell_type": "code",
   "execution_count": 13,
   "id": "7ce94cc2",
   "metadata": {},
   "outputs": [],
   "source": [
    "from tkinter import *\n",
    "root=Tk()\n",
    "frame=Frame(root)\n",
    "frame.pack()\n",
    "button=Button(frame,text=\"Click me!\", bg=\"red\")\n",
    "button.pack(side=LEFT)\n",
    "button=Button(frame,text=\"Don't Click me!\", bg=\"blue\")\n",
    "button.pack(side=RIGHT)\n",
    "root.mainloop()"
   ]
  },
  {
   "cell_type": "code",
   "execution_count": 14,
   "id": "fde9aa4d",
   "metadata": {},
   "outputs": [],
   "source": [
    "from tkinter import *\n",
    "root=Tk()    \n",
    "root.title(\"Simple Calculator\")\n",
    "e=Entry(root,width=50,fg=\"pink\",bg=\"blue\",borderwidth=5)\n",
    "e.grid(row=0, column=0, columnspan=3,padx=10,pady=10)\n",
    "def button_click(number):\n",
    "    current=e.get()\n",
    "    e.delete(0,END)\n",
    "    e.insert(0,str(current)+str(number))\n",
    "\n",
    "    def button_Add():\n",
    "        global operator\n",
    "        operator=\"Addition\"\n",
    "        first=e.get\n",
    "        global f_num\n",
    "        f_num=int(first)\n",
    "        e.delete(0,END)\n",
    "        \n",
    "        def button_equal():\n",
    "            second=e.get()\n",
    "            e.delete(0,END)\n",
    "            if operator==\"Addition\":\n",
    "                e.insert(0,f_num+int(second))\n",
    "            \n",
    "button_1=Button(root,text=\"1\",padx=10,pady=10,command=lambda:button_click(1))\n",
    "button_2=Button(root,text=\"2\",padx=10,pady=10,command=lambda:button_click(2))\n",
    "button_3=Button(root,text=\"3\",padx=10,pady=10,command=lambda:button_click(3))\n",
    "button_4=Button(root,text=\"4\",padx=10,pady=10,command=lambda:button_click(4))\n",
    "button_5=Button(root,text=\"5\",padx=10,pady=10,command=lambda:button_click(5))\n",
    "button_6=Button(root,text=\"6\",padx=10,pady=10,command=lambda:button_click(6))\n",
    "button_7=Button(root,text=\"7\",padx=10,pady=10,command=lambda:button_click(7))\n",
    "button_8=Button(root,text=\"8\",padx=10,pady=10,command=lambda:button_click(8))\n",
    "button_9=Button(root,text=\"9\",padx=10,pady=10,command=lambda:button_click(9))\n",
    "button_e=Button(root,text=\"0\",padx=10,pady=10,command=lambda:button_equal())\n",
    "button_a=Button(root,text=\"+\",padx=10,pady=10,command=lambda:button_add())\n",
    "button_s=Button(root,text=\"-\",padx=10,pady=10,command=lambda:button_subtract())\n",
    "#button_m=Button(root,text=\"*\",padx=10,pady=10,command=lambda:button_multiply()\n",
    "#button_d=Button(root,text=\"/\",padx=10,pady=10,command=lambda:button_divide())\n",
    "button_c=Button(root,text=\"clear\",padx=10,pady=10,command=lambda:button_clear())   \n",
    "button_1.grid(row=3, column=0)\n",
    "button_2.grid(row=3, column=1)\n",
    "button_3.grid(row=3, column=2)\n",
    "button_4.grid(row=2, column=0)\n",
    "button_5.grid(row=2, column=1)\n",
    "button_6.grid(row=2, column=2)\n",
    "button_7.grid(row=1, column=0)\n",
    "button_8.grid(row=1, column=1)\n",
    "button_9.grid(row=1, column=2)\n",
    "button_a.grid(row=1, column=3)\n",
    "button_s.grid(row=2, column=3)\n",
    "button_c.grid(row=4, column=3)\n",
    "button_e.grid(row=3, column=3)\n",
    "            \n",
    "root.mainloop()"
   ]
  },
  {
   "cell_type": "code",
   "execution_count": null,
   "id": "2480bd43",
   "metadata": {},
   "outputs": [],
   "source": []
  },
  {
   "cell_type": "code",
   "execution_count": null,
   "id": "fa210865",
   "metadata": {},
   "outputs": [],
   "source": []
  }
 ],
 "metadata": {
  "kernelspec": {
   "display_name": "Python 3 (ipykernel)",
   "language": "python",
   "name": "python3"
  },
  "language_info": {
   "codemirror_mode": {
    "name": "ipython",
    "version": 3
   },
   "file_extension": ".py",
   "mimetype": "text/x-python",
   "name": "python",
   "nbconvert_exporter": "python",
   "pygments_lexer": "ipython3",
   "version": "3.9.7"
  }
 },
 "nbformat": 4,
 "nbformat_minor": 5
}
